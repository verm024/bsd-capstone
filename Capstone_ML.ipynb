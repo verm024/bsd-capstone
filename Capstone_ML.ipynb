{
  "nbformat": 4,
  "nbformat_minor": 0,
  "metadata": {
    "colab": {
      "name": "Capstone ML.ipynb",
      "provenance": [],
      "collapsed_sections": [],
      "include_colab_link": true
    },
    "kernelspec": {
      "name": "python3",
      "display_name": "Python 3"
    },
    "language_info": {
      "name": "python"
    }
  },
  "cells": [
    {
      "cell_type": "markdown",
      "metadata": {
        "id": "view-in-github",
        "colab_type": "text"
      },
      "source": [
        "<a href=\"https://colab.research.google.com/github/verm024/bsd-capstone/blob/main/Capstone_ML.ipynb\" target=\"_parent\"><img src=\"https://colab.research.google.com/assets/colab-badge.svg\" alt=\"Open In Colab\"/></a>"
      ]
    },
    {
      "cell_type": "markdown",
      "metadata": {
        "id": "JE2wTz_RYKMU"
      },
      "source": [
        "**Code Steps**\n",
        "<br>\n",
        "\n",
        "1.   Import dataset from spreadsheet URL as csv \n",
        "2.   Split the data into training, validation, and test data\n",
        "3.   Convert the data to input pipeline using tf.data\n",
        "4.   Extract feature columns\n",
        "5.   Create the architecture of the model\n",
        "6.   Train, validate, and test the model\n",
        "7.   Export the model to TFX format\n",
        "8.   Deploy and test the deployed model"
      ]
    },
    {
      "cell_type": "markdown",
      "metadata": {
        "id": "KHefR0K1ZJ76"
      },
      "source": [
        "## Import Library"
      ]
    },
    {
      "cell_type": "code",
      "metadata": {
        "id": "JDz35Bk8YB8p"
      },
      "source": [
        "# Import\n",
        "import numpy as np\n",
        "import pandas as pd\n",
        "import tensorflow as tf\n",
        "from tensorflow import feature_column\n",
        "from tensorflow.keras import layers\n",
        "from sklearn.model_selection import train_test_split"
      ],
      "execution_count": 1,
      "outputs": []
    },
    {
      "cell_type": "markdown",
      "metadata": {
        "id": "AHoGojr-ZPYR"
      },
      "source": [
        "## Load Dataset"
      ]
    },
    {
      "cell_type": "code",
      "metadata": {
        "colab": {
          "base_uri": "https://localhost:8080/",
          "height": 417
        },
        "id": "r10hx-vVfAvR",
        "outputId": "1c743505-9a3a-48a2-ab0e-d327a8a41a57"
      },
      "source": [
        "# Load Dataset CSV\n",
        "URL = 'https://docs.google.com/spreadsheets/d/1h6TldA5tUq2Vu0wHfAzHqmtSkpKHHyL6ONOaf8F4PII/export?gid=0&format=csv'\n",
        "df = pd.read_csv(URL)\n",
        "df"
      ],
      "execution_count": 2,
      "outputs": [
        {
          "output_type": "execute_result",
          "data": {
            "text/html": [
              "<div>\n",
              "<style scoped>\n",
              "    .dataframe tbody tr th:only-of-type {\n",
              "        vertical-align: middle;\n",
              "    }\n",
              "\n",
              "    .dataframe tbody tr th {\n",
              "        vertical-align: top;\n",
              "    }\n",
              "\n",
              "    .dataframe thead th {\n",
              "        text-align: right;\n",
              "    }\n",
              "</style>\n",
              "<table border=\"1\" class=\"dataframe\">\n",
              "  <thead>\n",
              "    <tr style=\"text-align: right;\">\n",
              "      <th></th>\n",
              "      <th>umur</th>\n",
              "      <th>gaji</th>\n",
              "      <th>tanggungan</th>\n",
              "      <th>pekerjaan</th>\n",
              "      <th>diterima</th>\n",
              "    </tr>\n",
              "  </thead>\n",
              "  <tbody>\n",
              "    <tr>\n",
              "      <th>0</th>\n",
              "      <td>25</td>\n",
              "      <td>1.8</td>\n",
              "      <td>5</td>\n",
              "      <td>4</td>\n",
              "      <td>1</td>\n",
              "    </tr>\n",
              "    <tr>\n",
              "      <th>1</th>\n",
              "      <td>19</td>\n",
              "      <td>0.8</td>\n",
              "      <td>1</td>\n",
              "      <td>7</td>\n",
              "      <td>1</td>\n",
              "    </tr>\n",
              "    <tr>\n",
              "      <th>2</th>\n",
              "      <td>24</td>\n",
              "      <td>2.6</td>\n",
              "      <td>2</td>\n",
              "      <td>3</td>\n",
              "      <td>1</td>\n",
              "    </tr>\n",
              "    <tr>\n",
              "      <th>3</th>\n",
              "      <td>17</td>\n",
              "      <td>0.1</td>\n",
              "      <td>1</td>\n",
              "      <td>0</td>\n",
              "      <td>1</td>\n",
              "    </tr>\n",
              "    <tr>\n",
              "      <th>4</th>\n",
              "      <td>20</td>\n",
              "      <td>0.5</td>\n",
              "      <td>2</td>\n",
              "      <td>7</td>\n",
              "      <td>1</td>\n",
              "    </tr>\n",
              "    <tr>\n",
              "      <th>...</th>\n",
              "      <td>...</td>\n",
              "      <td>...</td>\n",
              "      <td>...</td>\n",
              "      <td>...</td>\n",
              "      <td>...</td>\n",
              "    </tr>\n",
              "    <tr>\n",
              "      <th>195</th>\n",
              "      <td>67</td>\n",
              "      <td>8.7</td>\n",
              "      <td>1</td>\n",
              "      <td>1</td>\n",
              "      <td>0</td>\n",
              "    </tr>\n",
              "    <tr>\n",
              "      <th>196</th>\n",
              "      <td>68</td>\n",
              "      <td>7.2</td>\n",
              "      <td>2</td>\n",
              "      <td>1</td>\n",
              "      <td>0</td>\n",
              "    </tr>\n",
              "    <tr>\n",
              "      <th>197</th>\n",
              "      <td>70</td>\n",
              "      <td>7.5</td>\n",
              "      <td>1</td>\n",
              "      <td>1</td>\n",
              "      <td>0</td>\n",
              "    </tr>\n",
              "    <tr>\n",
              "      <th>198</th>\n",
              "      <td>63</td>\n",
              "      <td>5.3</td>\n",
              "      <td>1</td>\n",
              "      <td>1</td>\n",
              "      <td>0</td>\n",
              "    </tr>\n",
              "    <tr>\n",
              "      <th>199</th>\n",
              "      <td>73</td>\n",
              "      <td>6.2</td>\n",
              "      <td>0</td>\n",
              "      <td>1</td>\n",
              "      <td>0</td>\n",
              "    </tr>\n",
              "  </tbody>\n",
              "</table>\n",
              "<p>200 rows × 5 columns</p>\n",
              "</div>"
            ],
            "text/plain": [
              "     umur  gaji  tanggungan  pekerjaan  diterima\n",
              "0      25   1.8           5          4         1\n",
              "1      19   0.8           1          7         1\n",
              "2      24   2.6           2          3         1\n",
              "3      17   0.1           1          0         1\n",
              "4      20   0.5           2          7         1\n",
              "..    ...   ...         ...        ...       ...\n",
              "195    67   8.7           1          1         0\n",
              "196    68   7.2           2          1         0\n",
              "197    70   7.5           1          1         0\n",
              "198    63   5.3           1          1         0\n",
              "199    73   6.2           0          1         0\n",
              "\n",
              "[200 rows x 5 columns]"
            ]
          },
          "metadata": {
            "tags": []
          },
          "execution_count": 2
        }
      ]
    },
    {
      "cell_type": "markdown",
      "metadata": {
        "id": "fF1BddcoZTrR"
      },
      "source": [
        "## Split Train, Validation, Test"
      ]
    },
    {
      "cell_type": "code",
      "metadata": {
        "colab": {
          "base_uri": "https://localhost:8080/"
        },
        "id": "g4y7zDjHSyM5",
        "outputId": "06f5bc98-3658-4038-f2bd-d342a6878d53"
      },
      "source": [
        "train, test = train_test_split(df, test_size=0.2)\n",
        "train, val = train_test_split(train, test_size=0.2)\n",
        "print(len(train), 'train examples')\n",
        "print(len(val), 'validation examples')\n",
        "print(len(test), 'test examples')"
      ],
      "execution_count": 3,
      "outputs": [
        {
          "output_type": "stream",
          "text": [
            "128 train examples\n",
            "32 validation examples\n",
            "40 test examples\n"
          ],
          "name": "stdout"
        }
      ]
    },
    {
      "cell_type": "markdown",
      "metadata": {
        "id": "HydFhjZLZXMZ"
      },
      "source": [
        "## Convert dataframe to tf.data\n"
      ]
    },
    {
      "cell_type": "code",
      "metadata": {
        "id": "WOOy75CeTMWA"
      },
      "source": [
        "def df_to_dataset(dataframe, shuffle=True, batch_size=32):\n",
        "  dataframe = dataframe.copy()\n",
        "  labels = dataframe.pop('diterima')\n",
        "  ds = tf.data.Dataset.from_tensor_slices((dict(dataframe), labels))\n",
        "  if shuffle:\n",
        "    ds = ds.shuffle(buffer_size=len(dataframe))\n",
        "  ds = ds.batch(batch_size)\n",
        "  return ds"
      ],
      "execution_count": 4,
      "outputs": []
    },
    {
      "cell_type": "code",
      "metadata": {
        "colab": {
          "base_uri": "https://localhost:8080/"
        },
        "id": "cXcIDC-WTNWo",
        "outputId": "02aff7d0-6d3e-4575-b320-7c3fb1ae3a02"
      },
      "source": [
        "batch_size = 5 # A small batch sized is used for demonstration purposes\n",
        "train_ds = df_to_dataset(train, batch_size=batch_size)\n",
        "val_ds = df_to_dataset(val, shuffle=False, batch_size=batch_size)\n",
        "test_ds = df_to_dataset(test, shuffle=False, batch_size=batch_size)\n",
        "print(train_ds)"
      ],
      "execution_count": 5,
      "outputs": [
        {
          "output_type": "stream",
          "text": [
            "<BatchDataset shapes: ({umur: (None,), gaji: (None,), tanggungan: (None,), pekerjaan: (None,)}, (None,)), types: ({umur: tf.int64, gaji: tf.float64, tanggungan: tf.int64, pekerjaan: tf.int64}, tf.int64)>\n"
          ],
          "name": "stdout"
        }
      ]
    },
    {
      "cell_type": "code",
      "metadata": {
        "colab": {
          "base_uri": "https://localhost:8080/"
        },
        "id": "2DSFxLp9Zs1h",
        "outputId": "588b31a7-512f-4367-e133-229b1c5ad805"
      },
      "source": [
        "for feature_batch, label_batch in train_ds.take(1):\n",
        "  print('Every feature:', list(feature_batch.keys()))\n",
        "  print('A batch of ages:', feature_batch['umur'])\n",
        "  print('A batch of targets:', label_batch )"
      ],
      "execution_count": 6,
      "outputs": [
        {
          "output_type": "stream",
          "text": [
            "Every feature: ['umur', 'gaji', 'tanggungan', 'pekerjaan']\n",
            "A batch of ages: tf.Tensor([47 37 44 40 44], shape=(5,), dtype=int64)\n",
            "A batch of targets: tf.Tensor([1 1 1 0 1], shape=(5,), dtype=int64)\n"
          ],
          "name": "stdout"
        }
      ]
    },
    {
      "cell_type": "markdown",
      "metadata": {
        "id": "LFvBSxuwZf3w"
      },
      "source": [
        "## Extract Feature Columns"
      ]
    },
    {
      "cell_type": "code",
      "metadata": {
        "id": "nxLbZ1AlaA-6"
      },
      "source": [
        "example_batch = next(iter(train_ds))[0]\n",
        "\n",
        "def demo(feature_column):\n",
        "  feature_layer = layers.DenseFeatures(feature_column)\n",
        "  print(feature_layer(example_batch).numpy())"
      ],
      "execution_count": 7,
      "outputs": []
    },
    {
      "cell_type": "code",
      "metadata": {
        "colab": {
          "base_uri": "https://localhost:8080/"
        },
        "id": "lkKYwlgAaOTR",
        "outputId": "8a27c5a6-13e5-4de1-a33f-f23901568195"
      },
      "source": [
        "umur = feature_column.numeric_column(\"umur\")\n",
        "demo(umur)\n",
        "umur_buckets = feature_column.bucketized_column(umur, boundaries=[25, 34, 43, 52, 61, 70, 79])\n",
        "demo(umur_buckets)"
      ],
      "execution_count": 8,
      "outputs": [
        {
          "output_type": "stream",
          "text": [
            "[[26.]\n",
            " [41.]\n",
            " [49.]\n",
            " [17.]\n",
            " [43.]]\n",
            "[[0. 1. 0. 0. 0. 0. 0. 0.]\n",
            " [0. 0. 1. 0. 0. 0. 0. 0.]\n",
            " [0. 0. 0. 1. 0. 0. 0. 0.]\n",
            " [1. 0. 0. 0. 0. 0. 0. 0.]\n",
            " [0. 0. 0. 1. 0. 0. 0. 0.]]\n"
          ],
          "name": "stdout"
        }
      ]
    },
    {
      "cell_type": "code",
      "metadata": {
        "colab": {
          "base_uri": "https://localhost:8080/"
        },
        "id": "-TWkC3qicC5l",
        "outputId": "dd2426ad-413a-47ab-fcc8-82ddb5da5aaf"
      },
      "source": [
        "# 0\tTidak Bekerja\n",
        "# 1\tPensiunan\n",
        "# 2\tPNS\n",
        "# 3\tWiraswasta\n",
        "# 4\tKaryawan\n",
        "# 5\tPetani/Nelayan/Peternak\n",
        "# 6\tPegawai Pemerintah\n",
        "# 7\tPekerja kasar\n",
        "# 8\tBuruh pabrik\n",
        "# 9\tPemuka Agama\n",
        "# 10\tLainnya\n",
        "\n",
        "pekerjaan = feature_column.categorical_column_with_vocabulary_list(\n",
        "      'pekerjaan', [0, 1, 2, 3, 4, 5, 6, 7, 8, 9, 10])\n",
        "\n",
        "pekerjaan_one_hot = feature_column.indicator_column(pekerjaan)\n",
        "demo(pekerjaan_one_hot)"
      ],
      "execution_count": 9,
      "outputs": [
        {
          "output_type": "stream",
          "text": [
            "[[0. 0. 0. 0. 1. 0. 0. 0. 0. 0. 0.]\n",
            " [0. 0. 0. 0. 1. 0. 0. 0. 0. 0. 0.]\n",
            " [0. 0. 1. 0. 0. 0. 0. 0. 0. 0. 0.]\n",
            " [1. 0. 0. 0. 0. 0. 0. 0. 0. 0. 0.]\n",
            " [0. 0. 0. 0. 0. 0. 0. 1. 0. 0. 0.]]\n"
          ],
          "name": "stdout"
        }
      ]
    },
    {
      "cell_type": "code",
      "metadata": {
        "id": "s2gssaNQcb7y"
      },
      "source": [
        "feature_columns = []\n",
        "\n",
        "# numeric cols\n",
        "for header in ['umur', 'gaji', 'tanggungan', 'pekerjaan']:\n",
        "  feature_columns.append(feature_column.numeric_column(header))\n",
        "\n",
        "# bucketized cols\n",
        "umur_buckets = feature_column.bucketized_column(umur, boundaries=[25, 34, 43, 52, 61, 70, 79])\n",
        "feature_columns.append(umur_buckets)\n",
        "\n",
        "# categorical cols\n",
        "pekerjaan = feature_column.categorical_column_with_vocabulary_list(\n",
        "      'pekerjaan', [0, 1, 2, 3, 4, 5, 6, 7, 8, 9, 10])\n",
        "\n",
        "pekerjaan_one_hot = feature_column.indicator_column(pekerjaan)\n",
        "feature_columns.append(pekerjaan_one_hot)"
      ],
      "execution_count": 10,
      "outputs": []
    },
    {
      "cell_type": "code",
      "metadata": {
        "id": "pLSpQhivfF_i"
      },
      "source": [
        "feature_layer = tf.keras.layers.DenseFeatures(feature_columns)"
      ],
      "execution_count": 11,
      "outputs": []
    },
    {
      "cell_type": "code",
      "metadata": {
        "id": "k_EgP8HJfIsn"
      },
      "source": [
        "batch_size = 32\n",
        "train_ds = df_to_dataset(train, batch_size=batch_size)\n",
        "val_ds = df_to_dataset(val, shuffle=False, batch_size=batch_size)\n",
        "test_ds = df_to_dataset(test, shuffle=False, batch_size=batch_size)"
      ],
      "execution_count": 12,
      "outputs": []
    },
    {
      "cell_type": "code",
      "metadata": {
        "colab": {
          "base_uri": "https://localhost:8080/"
        },
        "id": "qGaxHXCEfJVS",
        "outputId": "89be87fe-f23c-48a3-b55a-67fb8db53831"
      },
      "source": [
        "for feature_batch, label_batch in train_ds.take(1):\n",
        "  print('Every feature:', list(feature_batch.keys()))\n",
        "  print('A batch of ages:', feature_batch['umur'])\n",
        "  print('A batch of targets:', label_batch )"
      ],
      "execution_count": 13,
      "outputs": [
        {
          "output_type": "stream",
          "text": [
            "Every feature: ['umur', 'gaji', 'tanggungan', 'pekerjaan']\n",
            "A batch of ages: tf.Tensor(\n",
            "[37 32 42 52 17 44 48 43 37 39 55 69 34 20 40 48 44 59 42 51 52 48 44 70\n",
            " 51 37 55 42 39 43 47 31], shape=(32,), dtype=int64)\n",
            "A batch of targets: tf.Tensor([1 1 0 0 1 1 0 0 0 1 1 0 1 1 1 0 1 0 1 1 1 0 1 1 1 1 1 1 1 1 1 0], shape=(32,), dtype=int64)\n"
          ],
          "name": "stdout"
        }
      ]
    },
    {
      "cell_type": "code",
      "metadata": {
        "id": "Q7rv0tbe_TtH"
      },
      "source": [
        "tf.keras.backend.clear_session()\n",
        "model = tf.keras.models.Sequential([\n",
        "  feature_layer,\n",
        "  layers.Dense(64, activation='relu'),\n",
        "  layers.Dense(64, activation='relu'),\n",
        "  layers.Dense(1, activation='sigmoid')\n",
        "])\n",
        "\n",
        "model.compile(optimizer='adam',\n",
        "              loss='binary_crossentropy',\n",
        "              metrics=['accuracy'])"
      ],
      "execution_count": 14,
      "outputs": []
    },
    {
      "cell_type": "code",
      "metadata": {
        "colab": {
          "base_uri": "https://localhost:8080/"
        },
        "id": "UsgJvvXDQ9MN",
        "outputId": "7668c78e-4f2b-47e2-9232-7c1c8875c53b"
      },
      "source": [
        "model.fit(train_ds,\n",
        "          validation_data=val_ds,\n",
        "          epochs=100)"
      ],
      "execution_count": 15,
      "outputs": [
        {
          "output_type": "stream",
          "text": [
            "Epoch 1/100\n",
            "WARNING:tensorflow:Layers in a Sequential model should only have a single input tensor, but we receive a <class 'dict'> input: {'umur': <tf.Tensor 'ExpandDims_3:0' shape=(None, 1) dtype=int64>, 'gaji': <tf.Tensor 'ExpandDims:0' shape=(None, 1) dtype=float64>, 'tanggungan': <tf.Tensor 'ExpandDims_2:0' shape=(None, 1) dtype=int64>, 'pekerjaan': <tf.Tensor 'ExpandDims_1:0' shape=(None, 1) dtype=int64>}\n",
            "Consider rewriting this model with the Functional API.\n",
            "WARNING:tensorflow:Layers in a Sequential model should only have a single input tensor, but we receive a <class 'dict'> input: {'umur': <tf.Tensor 'ExpandDims_3:0' shape=(None, 1) dtype=int64>, 'gaji': <tf.Tensor 'ExpandDims:0' shape=(None, 1) dtype=float64>, 'tanggungan': <tf.Tensor 'ExpandDims_2:0' shape=(None, 1) dtype=int64>, 'pekerjaan': <tf.Tensor 'ExpandDims_1:0' shape=(None, 1) dtype=int64>}\n",
            "Consider rewriting this model with the Functional API.\n",
            "1/4 [======>.......................] - ETA: 2s - loss: 0.8846 - accuracy: 0.3438WARNING:tensorflow:Layers in a Sequential model should only have a single input tensor, but we receive a <class 'dict'> input: {'umur': <tf.Tensor 'ExpandDims_3:0' shape=(None, 1) dtype=int64>, 'gaji': <tf.Tensor 'ExpandDims:0' shape=(None, 1) dtype=float64>, 'tanggungan': <tf.Tensor 'ExpandDims_2:0' shape=(None, 1) dtype=int64>, 'pekerjaan': <tf.Tensor 'ExpandDims_1:0' shape=(None, 1) dtype=int64>}\n",
            "Consider rewriting this model with the Functional API.\n",
            "4/4 [==============================] - 1s 79ms/step - loss: 0.8747 - accuracy: 0.3438 - val_loss: 0.7978 - val_accuracy: 0.4375\n",
            "Epoch 2/100\n",
            "4/4 [==============================] - 0s 7ms/step - loss: 0.7706 - accuracy: 0.4141 - val_loss: 0.7850 - val_accuracy: 0.4375\n",
            "Epoch 3/100\n",
            "4/4 [==============================] - 0s 6ms/step - loss: 0.7489 - accuracy: 0.4766 - val_loss: 0.7207 - val_accuracy: 0.4375\n",
            "Epoch 4/100\n",
            "4/4 [==============================] - 0s 7ms/step - loss: 0.6893 - accuracy: 0.5625 - val_loss: 0.7010 - val_accuracy: 0.4375\n",
            "Epoch 5/100\n",
            "4/4 [==============================] - 0s 7ms/step - loss: 0.6550 - accuracy: 0.5938 - val_loss: 0.6612 - val_accuracy: 0.5938\n",
            "Epoch 6/100\n",
            "4/4 [==============================] - 0s 7ms/step - loss: 0.6199 - accuracy: 0.6719 - val_loss: 0.6315 - val_accuracy: 0.6875\n",
            "Epoch 7/100\n",
            "4/4 [==============================] - 0s 7ms/step - loss: 0.5884 - accuracy: 0.6953 - val_loss: 0.5954 - val_accuracy: 0.7188\n",
            "Epoch 8/100\n",
            "4/4 [==============================] - 0s 8ms/step - loss: 0.5483 - accuracy: 0.7969 - val_loss: 0.5702 - val_accuracy: 0.8125\n",
            "Epoch 9/100\n",
            "4/4 [==============================] - 0s 6ms/step - loss: 0.5274 - accuracy: 0.8047 - val_loss: 0.5328 - val_accuracy: 0.7500\n",
            "Epoch 10/100\n",
            "4/4 [==============================] - 0s 9ms/step - loss: 0.4939 - accuracy: 0.8125 - val_loss: 0.5109 - val_accuracy: 0.7812\n",
            "Epoch 11/100\n",
            "4/4 [==============================] - 0s 7ms/step - loss: 0.4321 - accuracy: 0.8828 - val_loss: 0.4749 - val_accuracy: 0.7500\n",
            "Epoch 12/100\n",
            "4/4 [==============================] - 0s 9ms/step - loss: 0.4149 - accuracy: 0.8672 - val_loss: 0.4461 - val_accuracy: 0.8125\n",
            "Epoch 13/100\n",
            "4/4 [==============================] - 0s 7ms/step - loss: 0.3912 - accuracy: 0.8750 - val_loss: 0.4231 - val_accuracy: 0.8438\n",
            "Epoch 14/100\n",
            "4/4 [==============================] - 0s 7ms/step - loss: 0.3659 - accuracy: 0.8828 - val_loss: 0.4127 - val_accuracy: 0.9062\n",
            "Epoch 15/100\n",
            "4/4 [==============================] - 0s 7ms/step - loss: 0.3609 - accuracy: 0.8828 - val_loss: 0.3835 - val_accuracy: 0.8125\n",
            "Epoch 16/100\n",
            "4/4 [==============================] - 0s 6ms/step - loss: 0.3187 - accuracy: 0.9141 - val_loss: 0.3767 - val_accuracy: 0.9062\n",
            "Epoch 17/100\n",
            "4/4 [==============================] - 0s 6ms/step - loss: 0.3119 - accuracy: 0.9141 - val_loss: 0.3481 - val_accuracy: 0.9375\n",
            "Epoch 18/100\n",
            "4/4 [==============================] - 0s 6ms/step - loss: 0.3006 - accuracy: 0.8906 - val_loss: 0.3345 - val_accuracy: 0.9062\n",
            "Epoch 19/100\n",
            "4/4 [==============================] - 0s 6ms/step - loss: 0.2925 - accuracy: 0.8984 - val_loss: 0.3381 - val_accuracy: 0.9375\n",
            "Epoch 20/100\n",
            "4/4 [==============================] - 0s 6ms/step - loss: 0.2761 - accuracy: 0.9219 - val_loss: 0.3064 - val_accuracy: 0.9375\n",
            "Epoch 21/100\n",
            "4/4 [==============================] - 0s 7ms/step - loss: 0.2569 - accuracy: 0.9297 - val_loss: 0.2972 - val_accuracy: 0.9375\n",
            "Epoch 22/100\n",
            "4/4 [==============================] - 0s 7ms/step - loss: 0.2496 - accuracy: 0.9453 - val_loss: 0.2929 - val_accuracy: 0.9375\n",
            "Epoch 23/100\n",
            "4/4 [==============================] - 0s 7ms/step - loss: 0.2345 - accuracy: 0.9609 - val_loss: 0.2751 - val_accuracy: 0.9375\n",
            "Epoch 24/100\n",
            "4/4 [==============================] - 0s 11ms/step - loss: 0.2276 - accuracy: 0.9531 - val_loss: 0.2688 - val_accuracy: 0.9375\n",
            "Epoch 25/100\n",
            "4/4 [==============================] - 0s 8ms/step - loss: 0.2167 - accuracy: 0.9609 - val_loss: 0.2606 - val_accuracy: 0.9375\n",
            "Epoch 26/100\n",
            "4/4 [==============================] - 0s 7ms/step - loss: 0.2093 - accuracy: 0.9531 - val_loss: 0.2507 - val_accuracy: 0.9375\n",
            "Epoch 27/100\n",
            "4/4 [==============================] - 0s 7ms/step - loss: 0.2063 - accuracy: 0.9609 - val_loss: 0.2420 - val_accuracy: 0.9375\n",
            "Epoch 28/100\n",
            "4/4 [==============================] - 0s 7ms/step - loss: 0.1949 - accuracy: 0.9688 - val_loss: 0.2449 - val_accuracy: 0.9688\n",
            "Epoch 29/100\n",
            "4/4 [==============================] - 0s 7ms/step - loss: 0.1944 - accuracy: 0.9609 - val_loss: 0.2387 - val_accuracy: 0.9688\n",
            "Epoch 30/100\n",
            "4/4 [==============================] - 0s 7ms/step - loss: 0.1976 - accuracy: 0.9609 - val_loss: 0.2237 - val_accuracy: 0.9375\n",
            "Epoch 31/100\n",
            "4/4 [==============================] - 0s 7ms/step - loss: 0.1799 - accuracy: 0.9531 - val_loss: 0.2291 - val_accuracy: 0.9688\n",
            "Epoch 32/100\n",
            "4/4 [==============================] - 0s 7ms/step - loss: 0.1774 - accuracy: 0.9531 - val_loss: 0.2147 - val_accuracy: 0.9688\n",
            "Epoch 33/100\n",
            "4/4 [==============================] - 0s 8ms/step - loss: 0.1723 - accuracy: 0.9609 - val_loss: 0.2061 - val_accuracy: 0.9375\n",
            "Epoch 34/100\n",
            "4/4 [==============================] - 0s 7ms/step - loss: 0.1643 - accuracy: 0.9688 - val_loss: 0.2126 - val_accuracy: 0.9688\n",
            "Epoch 35/100\n",
            "4/4 [==============================] - 0s 8ms/step - loss: 0.1630 - accuracy: 0.9531 - val_loss: 0.2060 - val_accuracy: 0.9688\n",
            "Epoch 36/100\n",
            "4/4 [==============================] - 0s 7ms/step - loss: 0.1557 - accuracy: 0.9609 - val_loss: 0.1934 - val_accuracy: 0.9688\n",
            "Epoch 37/100\n",
            "4/4 [==============================] - 0s 7ms/step - loss: 0.1536 - accuracy: 0.9688 - val_loss: 0.1932 - val_accuracy: 0.9688\n",
            "Epoch 38/100\n",
            "4/4 [==============================] - 0s 6ms/step - loss: 0.1479 - accuracy: 0.9688 - val_loss: 0.1922 - val_accuracy: 0.9688\n",
            "Epoch 39/100\n",
            "4/4 [==============================] - 0s 8ms/step - loss: 0.1441 - accuracy: 0.9609 - val_loss: 0.1900 - val_accuracy: 0.9688\n",
            "Epoch 40/100\n",
            "4/4 [==============================] - 0s 7ms/step - loss: 0.1406 - accuracy: 0.9609 - val_loss: 0.1819 - val_accuracy: 0.9688\n",
            "Epoch 41/100\n",
            "4/4 [==============================] - 0s 7ms/step - loss: 0.1404 - accuracy: 0.9609 - val_loss: 0.1748 - val_accuracy: 0.9688\n",
            "Epoch 42/100\n",
            "4/4 [==============================] - 0s 8ms/step - loss: 0.1369 - accuracy: 0.9609 - val_loss: 0.1811 - val_accuracy: 0.9688\n",
            "Epoch 43/100\n",
            "4/4 [==============================] - 0s 7ms/step - loss: 0.1306 - accuracy: 0.9609 - val_loss: 0.1690 - val_accuracy: 0.9688\n",
            "Epoch 44/100\n",
            "4/4 [==============================] - 0s 6ms/step - loss: 0.1300 - accuracy: 0.9766 - val_loss: 0.1718 - val_accuracy: 0.9688\n",
            "Epoch 45/100\n",
            "4/4 [==============================] - 0s 6ms/step - loss: 0.1259 - accuracy: 0.9688 - val_loss: 0.1626 - val_accuracy: 0.9688\n",
            "Epoch 46/100\n",
            "4/4 [==============================] - 0s 7ms/step - loss: 0.1227 - accuracy: 0.9688 - val_loss: 0.1691 - val_accuracy: 0.9688\n",
            "Epoch 47/100\n",
            "4/4 [==============================] - 0s 7ms/step - loss: 0.1173 - accuracy: 0.9766 - val_loss: 0.1599 - val_accuracy: 0.9688\n",
            "Epoch 48/100\n",
            "4/4 [==============================] - 0s 7ms/step - loss: 0.1143 - accuracy: 0.9766 - val_loss: 0.1538 - val_accuracy: 0.9688\n",
            "Epoch 49/100\n",
            "4/4 [==============================] - 0s 7ms/step - loss: 0.1112 - accuracy: 0.9766 - val_loss: 0.1580 - val_accuracy: 0.9688\n",
            "Epoch 50/100\n",
            "4/4 [==============================] - 0s 7ms/step - loss: 0.1090 - accuracy: 0.9766 - val_loss: 0.1515 - val_accuracy: 0.9688\n",
            "Epoch 51/100\n",
            "4/4 [==============================] - 0s 8ms/step - loss: 0.1058 - accuracy: 0.9844 - val_loss: 0.1493 - val_accuracy: 0.9688\n",
            "Epoch 52/100\n",
            "4/4 [==============================] - 0s 7ms/step - loss: 0.1032 - accuracy: 0.9766 - val_loss: 0.1484 - val_accuracy: 0.9688\n",
            "Epoch 53/100\n",
            "4/4 [==============================] - 0s 7ms/step - loss: 0.1003 - accuracy: 0.9766 - val_loss: 0.1497 - val_accuracy: 0.9688\n",
            "Epoch 54/100\n",
            "4/4 [==============================] - 0s 7ms/step - loss: 0.0988 - accuracy: 0.9766 - val_loss: 0.1399 - val_accuracy: 0.9688\n",
            "Epoch 55/100\n",
            "4/4 [==============================] - 0s 7ms/step - loss: 0.0968 - accuracy: 0.9766 - val_loss: 0.1503 - val_accuracy: 0.9688\n",
            "Epoch 56/100\n",
            "4/4 [==============================] - 0s 6ms/step - loss: 0.0938 - accuracy: 0.9844 - val_loss: 0.1439 - val_accuracy: 0.9688\n",
            "Epoch 57/100\n",
            "4/4 [==============================] - 0s 6ms/step - loss: 0.0901 - accuracy: 0.9922 - val_loss: 0.1334 - val_accuracy: 0.9688\n",
            "Epoch 58/100\n",
            "4/4 [==============================] - 0s 7ms/step - loss: 0.0907 - accuracy: 0.9688 - val_loss: 0.1395 - val_accuracy: 0.9688\n",
            "Epoch 59/100\n",
            "4/4 [==============================] - 0s 8ms/step - loss: 0.0884 - accuracy: 0.9766 - val_loss: 0.1283 - val_accuracy: 0.9688\n",
            "Epoch 60/100\n",
            "4/4 [==============================] - 0s 7ms/step - loss: 0.0879 - accuracy: 0.9766 - val_loss: 0.1416 - val_accuracy: 0.9688\n",
            "Epoch 61/100\n",
            "4/4 [==============================] - 0s 7ms/step - loss: 0.0832 - accuracy: 0.9922 - val_loss: 0.1254 - val_accuracy: 0.9688\n",
            "Epoch 62/100\n",
            "4/4 [==============================] - 0s 7ms/step - loss: 0.0809 - accuracy: 0.9766 - val_loss: 0.1368 - val_accuracy: 0.9688\n",
            "Epoch 63/100\n",
            "4/4 [==============================] - 0s 7ms/step - loss: 0.0780 - accuracy: 0.9844 - val_loss: 0.1285 - val_accuracy: 0.9688\n",
            "Epoch 64/100\n",
            "4/4 [==============================] - 0s 8ms/step - loss: 0.0771 - accuracy: 0.9922 - val_loss: 0.1216 - val_accuracy: 0.9688\n",
            "Epoch 65/100\n",
            "4/4 [==============================] - 0s 6ms/step - loss: 0.0727 - accuracy: 0.9922 - val_loss: 0.1306 - val_accuracy: 0.9688\n",
            "Epoch 66/100\n",
            "4/4 [==============================] - 0s 7ms/step - loss: 0.0748 - accuracy: 0.9844 - val_loss: 0.1294 - val_accuracy: 0.9688\n",
            "Epoch 67/100\n",
            "4/4 [==============================] - 0s 7ms/step - loss: 0.0688 - accuracy: 0.9922 - val_loss: 0.1141 - val_accuracy: 0.9688\n",
            "Epoch 68/100\n",
            "4/4 [==============================] - 0s 9ms/step - loss: 0.0734 - accuracy: 0.9844 - val_loss: 0.1131 - val_accuracy: 0.9688\n",
            "Epoch 69/100\n",
            "4/4 [==============================] - 0s 7ms/step - loss: 0.0663 - accuracy: 0.9844 - val_loss: 0.1303 - val_accuracy: 0.9688\n",
            "Epoch 70/100\n",
            "4/4 [==============================] - 0s 8ms/step - loss: 0.0711 - accuracy: 0.9844 - val_loss: 0.1321 - val_accuracy: 0.9688\n",
            "Epoch 71/100\n",
            "4/4 [==============================] - 0s 7ms/step - loss: 0.0741 - accuracy: 0.9766 - val_loss: 0.1062 - val_accuracy: 0.9688\n",
            "Epoch 72/100\n",
            "4/4 [==============================] - 0s 7ms/step - loss: 0.0648 - accuracy: 0.9922 - val_loss: 0.1201 - val_accuracy: 0.9688\n",
            "Epoch 73/100\n",
            "4/4 [==============================] - 0s 7ms/step - loss: 0.0698 - accuracy: 0.9922 - val_loss: 0.1390 - val_accuracy: 0.9375\n",
            "Epoch 74/100\n",
            "4/4 [==============================] - 0s 6ms/step - loss: 0.0615 - accuracy: 1.0000 - val_loss: 0.1024 - val_accuracy: 0.9688\n",
            "Epoch 75/100\n",
            "4/4 [==============================] - 0s 7ms/step - loss: 0.0638 - accuracy: 0.9844 - val_loss: 0.1105 - val_accuracy: 0.9688\n",
            "Epoch 76/100\n",
            "4/4 [==============================] - 0s 7ms/step - loss: 0.0583 - accuracy: 0.9922 - val_loss: 0.1158 - val_accuracy: 0.9688\n",
            "Epoch 77/100\n",
            "4/4 [==============================] - 0s 6ms/step - loss: 0.0575 - accuracy: 0.9922 - val_loss: 0.1101 - val_accuracy: 0.9688\n",
            "Epoch 78/100\n",
            "4/4 [==============================] - 0s 6ms/step - loss: 0.0577 - accuracy: 0.9922 - val_loss: 0.0998 - val_accuracy: 0.9688\n",
            "Epoch 79/100\n",
            "4/4 [==============================] - 0s 6ms/step - loss: 0.0550 - accuracy: 1.0000 - val_loss: 0.1134 - val_accuracy: 0.9688\n",
            "Epoch 80/100\n",
            "4/4 [==============================] - 0s 7ms/step - loss: 0.0541 - accuracy: 0.9922 - val_loss: 0.1074 - val_accuracy: 0.9688\n",
            "Epoch 81/100\n",
            "4/4 [==============================] - 0s 9ms/step - loss: 0.0521 - accuracy: 1.0000 - val_loss: 0.1058 - val_accuracy: 0.9688\n",
            "Epoch 82/100\n",
            "4/4 [==============================] - 0s 7ms/step - loss: 0.0512 - accuracy: 1.0000 - val_loss: 0.1033 - val_accuracy: 0.9688\n",
            "Epoch 83/100\n",
            "4/4 [==============================] - 0s 8ms/step - loss: 0.0503 - accuracy: 1.0000 - val_loss: 0.1042 - val_accuracy: 0.9688\n",
            "Epoch 84/100\n",
            "4/4 [==============================] - 0s 7ms/step - loss: 0.0493 - accuracy: 1.0000 - val_loss: 0.1034 - val_accuracy: 0.9688\n",
            "Epoch 85/100\n",
            "4/4 [==============================] - 0s 8ms/step - loss: 0.0485 - accuracy: 1.0000 - val_loss: 0.1033 - val_accuracy: 0.9688\n",
            "Epoch 86/100\n",
            "4/4 [==============================] - 0s 7ms/step - loss: 0.0491 - accuracy: 0.9922 - val_loss: 0.1067 - val_accuracy: 0.9688\n",
            "Epoch 87/100\n",
            "4/4 [==============================] - 0s 6ms/step - loss: 0.0495 - accuracy: 1.0000 - val_loss: 0.0937 - val_accuracy: 0.9688\n",
            "Epoch 88/100\n",
            "4/4 [==============================] - 0s 6ms/step - loss: 0.0466 - accuracy: 1.0000 - val_loss: 0.1073 - val_accuracy: 0.9688\n",
            "Epoch 89/100\n",
            "4/4 [==============================] - 0s 7ms/step - loss: 0.0460 - accuracy: 0.9922 - val_loss: 0.1049 - val_accuracy: 0.9688\n",
            "Epoch 90/100\n",
            "4/4 [==============================] - 0s 7ms/step - loss: 0.0471 - accuracy: 1.0000 - val_loss: 0.0901 - val_accuracy: 0.9688\n",
            "Epoch 91/100\n",
            "4/4 [==============================] - 0s 7ms/step - loss: 0.0504 - accuracy: 0.9922 - val_loss: 0.1146 - val_accuracy: 0.9375\n",
            "Epoch 92/100\n",
            "4/4 [==============================] - 0s 8ms/step - loss: 0.0447 - accuracy: 0.9922 - val_loss: 0.0901 - val_accuracy: 0.9688\n",
            "Epoch 93/100\n",
            "4/4 [==============================] - 0s 6ms/step - loss: 0.0434 - accuracy: 1.0000 - val_loss: 0.1026 - val_accuracy: 0.9688\n",
            "Epoch 94/100\n",
            "4/4 [==============================] - 0s 7ms/step - loss: 0.0438 - accuracy: 0.9922 - val_loss: 0.1013 - val_accuracy: 0.9688\n",
            "Epoch 95/100\n",
            "4/4 [==============================] - 0s 9ms/step - loss: 0.0406 - accuracy: 1.0000 - val_loss: 0.0868 - val_accuracy: 0.9688\n",
            "Epoch 96/100\n",
            "4/4 [==============================] - 0s 8ms/step - loss: 0.0407 - accuracy: 1.0000 - val_loss: 0.0928 - val_accuracy: 0.9688\n",
            "Epoch 97/100\n",
            "4/4 [==============================] - 0s 8ms/step - loss: 0.0383 - accuracy: 1.0000 - val_loss: 0.1036 - val_accuracy: 0.9688\n",
            "Epoch 98/100\n",
            "4/4 [==============================] - 0s 9ms/step - loss: 0.0399 - accuracy: 0.9922 - val_loss: 0.0975 - val_accuracy: 0.9688\n",
            "Epoch 99/100\n",
            "4/4 [==============================] - 0s 8ms/step - loss: 0.0372 - accuracy: 1.0000 - val_loss: 0.0902 - val_accuracy: 0.9688\n",
            "Epoch 100/100\n",
            "4/4 [==============================] - 0s 7ms/step - loss: 0.0378 - accuracy: 1.0000 - val_loss: 0.0897 - val_accuracy: 0.9688\n"
          ],
          "name": "stdout"
        },
        {
          "output_type": "execute_result",
          "data": {
            "text/plain": [
              "<tensorflow.python.keras.callbacks.History at 0x7f5165dad450>"
            ]
          },
          "metadata": {
            "tags": []
          },
          "execution_count": 15
        }
      ]
    },
    {
      "cell_type": "code",
      "metadata": {
        "colab": {
          "base_uri": "https://localhost:8080/"
        },
        "id": "rhrc-PlwAhM2",
        "outputId": "e5eb15d4-ff75-4e04-9905-cab39e276118"
      },
      "source": [
        "model.summary()"
      ],
      "execution_count": 16,
      "outputs": [
        {
          "output_type": "stream",
          "text": [
            "Model: \"sequential\"\n",
            "_________________________________________________________________\n",
            "Layer (type)                 Output Shape              Param #   \n",
            "=================================================================\n",
            "dense_features_3 (DenseFeatu multiple                  0         \n",
            "_________________________________________________________________\n",
            "dense (Dense)                multiple                  1536      \n",
            "_________________________________________________________________\n",
            "dense_1 (Dense)              multiple                  4160      \n",
            "_________________________________________________________________\n",
            "dense_2 (Dense)              multiple                  65        \n",
            "=================================================================\n",
            "Total params: 5,761\n",
            "Trainable params: 5,761\n",
            "Non-trainable params: 0\n",
            "_________________________________________________________________\n"
          ],
          "name": "stdout"
        }
      ]
    },
    {
      "cell_type": "code",
      "metadata": {
        "id": "zsIASYZDREOh",
        "colab": {
          "base_uri": "https://localhost:8080/"
        },
        "outputId": "8f3056c4-b2fa-4ed5-c9ec-7707f1342c10"
      },
      "source": [
        "loss, accuracy = model.evaluate(test_ds)\n",
        "print(\"Test Accuracy\", accuracy)"
      ],
      "execution_count": 17,
      "outputs": [
        {
          "output_type": "stream",
          "text": [
            "2/2 [==============================] - 0s 6ms/step - loss: 0.0890 - accuracy: 0.9750\n",
            "Test Accuracy 0.9750000238418579\n"
          ],
          "name": "stdout"
        }
      ]
    },
    {
      "cell_type": "markdown",
      "metadata": {
        "id": "qK-I5scqBQRr"
      },
      "source": [
        "## Tensorflow Serving\n",
        "\n"
      ]
    },
    {
      "cell_type": "code",
      "metadata": {
        "colab": {
          "base_uri": "https://localhost:8080/"
        },
        "id": "1MkCcrFqBZLr",
        "outputId": "e693d54a-cf28-4388-cd06-0a8d17061485"
      },
      "source": [
        "!echo \"deb http://storage.googleapis.com/tensorflow-serving-apt stable tensorflow-model-server tensorflow-model-server-universal\" | tee /etc/apt/sources.list.d/tensorflow-serving.list && \\\n",
        "curl https://storage.googleapis.com/tensorflow-serving-apt/tensorflow-serving.release.pub.gpg | apt-key add -\n",
        "!apt update\n",
        "!apt-get install tensorflow-model-server"
      ],
      "execution_count": null,
      "outputs": [
        {
          "output_type": "stream",
          "text": [
            "deb http://storage.googleapis.com/tensorflow-serving-apt stable tensorflow-model-server tensorflow-model-server-universal\n",
            "  % Total    % Received % Xferd  Average Speed   Time    Time     Time  Current\n",
            "                                 Dload  Upload   Total   Spent    Left  Speed\n",
            "\r  0     0    0     0    0     0      0      0 --:--:-- --:--:-- --:--:--     0\r100  2943  100  2943    0     0  81750      0 --:--:-- --:--:-- --:--:-- 81750\n",
            "OK\n",
            "Get:1 http://storage.googleapis.com/tensorflow-serving-apt stable InRelease [3,012 B]\n",
            "Get:2 https://cloud.r-project.org/bin/linux/ubuntu bionic-cran40/ InRelease [3,626 B]\n",
            "Ign:3 https://developer.download.nvidia.com/compute/cuda/repos/ubuntu1804/x86_64  InRelease\n",
            "Ign:4 https://developer.download.nvidia.com/compute/machine-learning/repos/ubuntu1804/x86_64  InRelease\n",
            "Hit:5 http://archive.ubuntu.com/ubuntu bionic InRelease\n",
            "Get:6 https://developer.download.nvidia.com/compute/cuda/repos/ubuntu1804/x86_64  Release [697 B]\n",
            "Get:7 http://storage.googleapis.com/tensorflow-serving-apt stable/tensorflow-model-server amd64 Packages [340 B]\n",
            "Hit:8 https://developer.download.nvidia.com/compute/machine-learning/repos/ubuntu1804/x86_64  Release\n",
            "Get:9 http://storage.googleapis.com/tensorflow-serving-apt stable/tensorflow-model-server-universal amd64 Packages [347 B]\n",
            "Get:10 https://developer.download.nvidia.com/compute/cuda/repos/ubuntu1804/x86_64  Release.gpg [836 B]\n",
            "Get:11 http://archive.ubuntu.com/ubuntu bionic-updates InRelease [88.7 kB]\n",
            "Get:12 http://ppa.launchpad.net/c2d4u.team/c2d4u4.0+/ubuntu bionic InRelease [15.9 kB]\n",
            "Get:13 http://security.ubuntu.com/ubuntu bionic-security InRelease [88.7 kB]\n",
            "Get:14 https://cloud.r-project.org/bin/linux/ubuntu bionic-cran40/ Packages [60.9 kB]\n",
            "Get:15 http://archive.ubuntu.com/ubuntu bionic-backports InRelease [74.6 kB]\n",
            "Ign:17 https://developer.download.nvidia.com/compute/cuda/repos/ubuntu1804/x86_64  Packages\n",
            "Get:17 https://developer.download.nvidia.com/compute/cuda/repos/ubuntu1804/x86_64  Packages [798 kB]\n",
            "Get:18 http://security.ubuntu.com/ubuntu bionic-security/restricted amd64 Packages [423 kB]\n",
            "Get:19 http://security.ubuntu.com/ubuntu bionic-security/main amd64 Packages [2,152 kB]\n",
            "Hit:20 http://ppa.launchpad.net/cran/libgit2/ubuntu bionic InRelease\n",
            "Get:21 http://security.ubuntu.com/ubuntu bionic-security/universe amd64 Packages [1,413 kB]\n",
            "Get:22 http://archive.ubuntu.com/ubuntu bionic-updates/universe amd64 Packages [2,184 kB]\n",
            "Hit:23 http://ppa.launchpad.net/deadsnakes/ppa/ubuntu bionic InRelease\n",
            "Get:24 http://ppa.launchpad.net/graphics-drivers/ppa/ubuntu bionic InRelease [21.3 kB]\n",
            "Get:25 http://ppa.launchpad.net/c2d4u.team/c2d4u4.0+/ubuntu bionic/main Sources [1,769 kB]\n",
            "Get:26 http://archive.ubuntu.com/ubuntu bionic-updates/main amd64 Packages [2,584 kB]\n",
            "Get:27 http://archive.ubuntu.com/ubuntu bionic-updates/restricted amd64 Packages [452 kB]\n",
            "Get:28 http://ppa.launchpad.net/c2d4u.team/c2d4u4.0+/ubuntu bionic/main amd64 Packages [905 kB]\n",
            "Get:29 http://ppa.launchpad.net/graphics-drivers/ppa/ubuntu bionic/main amd64 Packages [41.5 kB]\n",
            "Fetched 13.1 MB in 4s (3,131 kB/s)\n",
            "Reading package lists... Done\n",
            "Building dependency tree       \n",
            "Reading state information... Done\n",
            "80 packages can be upgraded. Run 'apt list --upgradable' to see them.\n",
            "Reading package lists... Done\n",
            "Building dependency tree       \n",
            "Reading state information... Done\n",
            "The following package was automatically installed and is no longer required:\n",
            "  libnvidia-common-460\n",
            "Use 'apt autoremove' to remove it.\n",
            "The following NEW packages will be installed:\n",
            "  tensorflow-model-server\n",
            "0 upgraded, 1 newly installed, 0 to remove and 80 not upgraded.\n",
            "Need to get 326 MB of archives.\n",
            "After this operation, 0 B of additional disk space will be used.\n",
            "Get:1 http://storage.googleapis.com/tensorflow-serving-apt stable/tensorflow-model-server amd64 tensorflow-model-server all 2.5.1 [326 MB]\n",
            "Fetched 326 MB in 5s (68.7 MB/s)\n",
            "Selecting previously unselected package tensorflow-model-server.\n",
            "(Reading database ... 160706 files and directories currently installed.)\n",
            "Preparing to unpack .../tensorflow-model-server_2.5.1_all.deb ...\n",
            "Unpacking tensorflow-model-server (2.5.1) ...\n",
            "Setting up tensorflow-model-server (2.5.1) ...\n"
          ],
          "name": "stdout"
        }
      ]
    },
    {
      "cell_type": "markdown",
      "metadata": {
        "id": "5QaGAbHAAG4v"
      },
      "source": [
        "## Save Model"
      ]
    },
    {
      "cell_type": "code",
      "metadata": {
        "colab": {
          "base_uri": "https://localhost:8080/"
        },
        "id": "3a1498Y2dfoe",
        "outputId": "adb69b74-0726-461a-e902-7cfa521b1986"
      },
      "source": [
        "# from google.colab import drive\n",
        "# drive.mount('/content/drive')"
      ],
      "execution_count": null,
      "outputs": [
        {
          "output_type": "stream",
          "text": [
            "Mounted at /content/drive\n"
          ],
          "name": "stdout"
        }
      ]
    },
    {
      "cell_type": "code",
      "metadata": {
        "colab": {
          "base_uri": "https://localhost:8080/"
        },
        "id": "K3IllEblAMKC",
        "outputId": "aadb4c84-07ee-4d1b-f532-16a702bca48e"
      },
      "source": [
        "import os\n",
        "import tempfile\n",
        "\n",
        "MODEL_DIR = tempfile.gettempdir() # MODEL_DIR='/tmp'\n",
        "# MODEL_DIR = \"/content/drive/MyDrive/Capstone/Model\"\n",
        "version = 2\n",
        "\n",
        "export_path = os.path.join(MODEL_DIR, str(version))\n",
        "\n",
        "if os.path.isdir(export_path):\n",
        "    print('\\nAlready saved a model, cleaning up\\n')\n",
        "    !rm -r {export_path}\n",
        "\n",
        "model.save(export_path, save_format=\"tf\")\n",
        "\n",
        "print('\\nexport_path = {}'.format(export_path))\n",
        "!ls -l {export_path}"
      ],
      "execution_count": 18,
      "outputs": [
        {
          "output_type": "stream",
          "text": [
            "WARNING:tensorflow:Layers in a Sequential model should only have a single input tensor, but we receive a <class 'dict'> input: {'umur': <tf.Tensor 'umur:0' shape=(None, 1) dtype=int64>, 'gaji': <tf.Tensor 'gaji:0' shape=(None, 1) dtype=float64>, 'tanggungan': <tf.Tensor 'tanggungan:0' shape=(None, 1) dtype=int64>, 'pekerjaan': <tf.Tensor 'pekerjaan:0' shape=(None, 1) dtype=int64>}\n",
            "Consider rewriting this model with the Functional API.\n",
            "WARNING:tensorflow:Layers in a Sequential model should only have a single input tensor, but we receive a <class 'dict'> input: {'umur': <tf.Tensor 'inputs_3:0' shape=(None, 1) dtype=int64>, 'gaji': <tf.Tensor 'inputs:0' shape=(None, 1) dtype=float64>, 'tanggungan': <tf.Tensor 'inputs_2:0' shape=(None, 1) dtype=int64>, 'pekerjaan': <tf.Tensor 'inputs_1:0' shape=(None, 1) dtype=int64>}\n",
            "Consider rewriting this model with the Functional API.\n",
            "WARNING:tensorflow:Layers in a Sequential model should only have a single input tensor, but we receive a <class 'dict'> input: {'umur': <tf.Tensor 'inputs_3:0' shape=(None, 1) dtype=int64>, 'gaji': <tf.Tensor 'inputs:0' shape=(None, 1) dtype=float64>, 'tanggungan': <tf.Tensor 'inputs_2:0' shape=(None, 1) dtype=int64>, 'pekerjaan': <tf.Tensor 'inputs_1:0' shape=(None, 1) dtype=int64>}\n",
            "Consider rewriting this model with the Functional API.\n",
            "WARNING:tensorflow:Layers in a Sequential model should only have a single input tensor, but we receive a <class 'dict'> input: {'umur': <tf.Tensor 'umur:0' shape=(None, 1) dtype=int64>, 'gaji': <tf.Tensor 'gaji:0' shape=(None, 1) dtype=float64>, 'tanggungan': <tf.Tensor 'tanggungan:0' shape=(None, 1) dtype=int64>, 'pekerjaan': <tf.Tensor 'pekerjaan:0' shape=(None, 1) dtype=int64>}\n",
            "Consider rewriting this model with the Functional API.\n",
            "WARNING:tensorflow:Layers in a Sequential model should only have a single input tensor, but we receive a <class 'dict'> input: {'umur': <tf.Tensor 'umur:0' shape=(None, 1) dtype=int64>, 'gaji': <tf.Tensor 'gaji:0' shape=(None, 1) dtype=float64>, 'tanggungan': <tf.Tensor 'tanggungan:0' shape=(None, 1) dtype=int64>, 'pekerjaan': <tf.Tensor 'pekerjaan:0' shape=(None, 1) dtype=int64>}\n",
            "Consider rewriting this model with the Functional API.\n",
            "WARNING:tensorflow:Layers in a Sequential model should only have a single input tensor, but we receive a <class 'dict'> input: {'umur': <tf.Tensor 'inputs/umur:0' shape=(None, 1) dtype=int64>, 'gaji': <tf.Tensor 'inputs/gaji:0' shape=(None, 1) dtype=float64>, 'tanggungan': <tf.Tensor 'inputs/tanggungan:0' shape=(None, 1) dtype=int64>, 'pekerjaan': <tf.Tensor 'inputs/pekerjaan:0' shape=(None, 1) dtype=int64>}\n",
            "Consider rewriting this model with the Functional API.\n",
            "WARNING:tensorflow:Layers in a Sequential model should only have a single input tensor, but we receive a <class 'dict'> input: {'umur': <tf.Tensor 'inputs/umur:0' shape=(None, 1) dtype=int64>, 'gaji': <tf.Tensor 'inputs/gaji:0' shape=(None, 1) dtype=float64>, 'tanggungan': <tf.Tensor 'inputs/tanggungan:0' shape=(None, 1) dtype=int64>, 'pekerjaan': <tf.Tensor 'inputs/pekerjaan:0' shape=(None, 1) dtype=int64>}\n",
            "Consider rewriting this model with the Functional API.\n",
            "INFO:tensorflow:Assets written to: /tmp/2/assets\n",
            "\n",
            "export_path = /tmp/2\n",
            "total 256\n",
            "drwxr-xr-x 2 root root   4096 Jun  8 14:31 assets\n",
            "-rw-r--r-- 1 root root  13524 Jun  8 14:31 keras_metadata.pb\n",
            "-rw-r--r-- 1 root root 236258 Jun  8 14:31 saved_model.pb\n",
            "drwxr-xr-x 2 root root   4096 Jun  8 14:31 variables\n"
          ],
          "name": "stdout"
        }
      ]
    },
    {
      "cell_type": "code",
      "metadata": {
        "colab": {
          "base_uri": "https://localhost:8080/"
        },
        "id": "_2qIzRyGAY5g",
        "outputId": "9e2c55d4-a60e-4329-fae3-9d94899510c4"
      },
      "source": [
        "!saved_model_cli show --dir {export_path} --all"
      ],
      "execution_count": 19,
      "outputs": [
        {
          "output_type": "stream",
          "text": [
            "\n",
            "MetaGraphDef with tag-set: 'serve' contains the following SignatureDefs:\n",
            "\n",
            "signature_def['__saved_model_init_op']:\n",
            "  The given SavedModel SignatureDef contains the following input(s):\n",
            "  The given SavedModel SignatureDef contains the following output(s):\n",
            "    outputs['__saved_model_init_op'] tensor_info:\n",
            "        dtype: DT_INVALID\n",
            "        shape: unknown_rank\n",
            "        name: NoOp\n",
            "  Method name is: \n",
            "\n",
            "signature_def['serving_default']:\n",
            "  The given SavedModel SignatureDef contains the following input(s):\n",
            "    inputs['gaji'] tensor_info:\n",
            "        dtype: DT_DOUBLE\n",
            "        shape: (-1, 1)\n",
            "        name: serving_default_gaji:0\n",
            "    inputs['pekerjaan'] tensor_info:\n",
            "        dtype: DT_INT64\n",
            "        shape: (-1, 1)\n",
            "        name: serving_default_pekerjaan:0\n",
            "    inputs['tanggungan'] tensor_info:\n",
            "        dtype: DT_INT64\n",
            "        shape: (-1, 1)\n",
            "        name: serving_default_tanggungan:0\n",
            "    inputs['umur'] tensor_info:\n",
            "        dtype: DT_INT64\n",
            "        shape: (-1, 1)\n",
            "        name: serving_default_umur:0\n",
            "  The given SavedModel SignatureDef contains the following output(s):\n",
            "    outputs['output_1'] tensor_info:\n",
            "        dtype: DT_FLOAT\n",
            "        shape: (-1, 1)\n",
            "        name: StatefulPartitionedCall_1:0\n",
            "  Method name is: tensorflow/serving/predict\n",
            "WARNING: Logging before flag parsing goes to stderr.\n",
            "W0608 14:31:54.061220 139982505367424 deprecation.py:506] From /usr/local/lib/python2.7/dist-packages/tensorflow_core/python/ops/resource_variable_ops.py:1786: calling __init__ (from tensorflow.python.ops.resource_variable_ops) with constraint is deprecated and will be removed in a future version.\n",
            "Instructions for updating:\n",
            "If using Keras pass *_constraint arguments to layers.\n",
            "2021-06-08 14:31:54.149417: I tensorflow/stream_executor/platform/default/dso_loader.cc:44] Successfully opened dynamic library libcuda.so.1\n",
            "2021-06-08 14:31:54.174560: E tensorflow/stream_executor/cuda/cuda_driver.cc:351] failed call to cuInit: CUDA_ERROR_NO_DEVICE: no CUDA-capable device is detected\n",
            "2021-06-08 14:31:54.174612: I tensorflow/stream_executor/cuda/cuda_diagnostics.cc:156] kernel driver does not appear to be running on this host (6b2a7fc1b795): /proc/driver/nvidia/version does not exist\n",
            "2021-06-08 14:31:54.191621: I tensorflow/core/platform/profile_utils/cpu_utils.cc:94] CPU Frequency: 2199995000 Hz\n",
            "2021-06-08 14:31:54.191861: I tensorflow/compiler/xla/service/service.cc:168] XLA service 0x559c0132cf40 initialized for platform Host (this does not guarantee that XLA will be used). Devices:\n",
            "2021-06-08 14:31:54.191896: I tensorflow/compiler/xla/service/service.cc:176]   StreamExecutor device (0): Host, Default Version\n",
            "\n",
            "Defined Functions:\n",
            "  Function Name: '__call__'\n",
            "    Option #1\n",
            "      Callable with:\n",
            "        Argument #1\n",
            "          DType: dict\n",
            "          Value: {'tanggungan': TensorSpec(shape=(None, 1), dtype=tf.int64, name=u'inputs/tanggungan'), 'gaji': TensorSpec(shape=(None, 1), dtype=tf.float64, name=u'inputs/gaji'), 'pekerjaan': TensorSpec(shape=(None, 1), dtype=tf.int64, name=u'inputs/pekerjaan'), 'umur': TensorSpec(shape=(None, 1), dtype=tf.int64, name=u'inputs/umur'), \b\b}\n",
            "        Argument #2\n",
            "          DType: bool\n",
            "          Value: True\n",
            "        Argument #3\n",
            "          DType: NoneType\n",
            "          Value: None\n",
            "    Option #2\n",
            "      Callable with:\n",
            "        Argument #1\n",
            "          DType: dict\n",
            "          Value: {'pekerjaan': TensorSpec(shape=(None, 1), dtype=tf.int64, name=u'pekerjaan'), 'umur': TensorSpec(shape=(None, 1), dtype=tf.int64, name=u'umur'), 'tanggungan': TensorSpec(shape=(None, 1), dtype=tf.int64, name=u'tanggungan'), 'gaji': TensorSpec(shape=(None, 1), dtype=tf.float64, name=u'gaji'), \b\b}\n",
            "        Argument #2\n",
            "          DType: bool\n",
            "          Value: True\n",
            "        Argument #3\n",
            "          DType: NoneType\n",
            "          Value: None\n",
            "    Option #3\n",
            "      Callable with:\n",
            "        Argument #1\n",
            "          DType: dict\n",
            "          Value: {'pekerjaan': TensorSpec(shape=(None, 1), dtype=tf.int64, name=u'pekerjaan'), 'umur': TensorSpec(shape=(None, 1), dtype=tf.int64, name=u'umur'), 'tanggungan': TensorSpec(shape=(None, 1), dtype=tf.int64, name=u'tanggungan'), 'gaji': TensorSpec(shape=(None, 1), dtype=tf.float64, name=u'gaji'), \b\b}\n",
            "        Argument #2\n",
            "          DType: bool\n",
            "          Value: False\n",
            "        Argument #3\n",
            "          DType: NoneType\n",
            "          Value: None\n",
            "    Option #4\n",
            "      Callable with:\n",
            "        Argument #1\n",
            "          DType: dict\n",
            "          Value: {'tanggungan': TensorSpec(shape=(None, 1), dtype=tf.int64, name=u'inputs/tanggungan'), 'gaji': TensorSpec(shape=(None, 1), dtype=tf.float64, name=u'inputs/gaji'), 'pekerjaan': TensorSpec(shape=(None, 1), dtype=tf.int64, name=u'inputs/pekerjaan'), 'umur': TensorSpec(shape=(None, 1), dtype=tf.int64, name=u'inputs/umur'), \b\b}\n",
            "        Argument #2\n",
            "          DType: bool\n",
            "          Value: False\n",
            "        Argument #3\n",
            "          DType: NoneType\n",
            "          Value: None\n",
            "\n",
            "  Function Name: '_default_save_signature'\n",
            "    Option #1\n",
            "      Callable with:\n",
            "        Argument #1\n",
            "          DType: dict\n",
            "          Value: {'tanggungan': TensorSpec(shape=(None, 1), dtype=tf.int64, name=u'tanggungan'), 'umur': TensorSpec(shape=(None, 1), dtype=tf.int64, name=u'umur'), 'pekerjaan': TensorSpec(shape=(None, 1), dtype=tf.int64, name=u'pekerjaan'), 'gaji': TensorSpec(shape=(None, 1), dtype=tf.float64, name=u'gaji'), \b\b}\n",
            "\n",
            "  Function Name: 'call_and_return_all_conditional_losses'\n",
            "    Option #1\n",
            "      Callable with:\n",
            "        Argument #1\n",
            "          DType: dict\n",
            "          Value: {'tanggungan': TensorSpec(shape=(None, 1), dtype=tf.int64, name=u'inputs/tanggungan'), 'umur': TensorSpec(shape=(None, 1), dtype=tf.int64, name=u'inputs/umur'), 'pekerjaan': TensorSpec(shape=(None, 1), dtype=tf.int64, name=u'inputs/pekerjaan'), 'gaji': TensorSpec(shape=(None, 1), dtype=tf.float64, name=u'inputs/gaji'), \b\b}\n",
            "        Argument #2\n",
            "          DType: bool\n",
            "          Value: True\n",
            "        Argument #3\n",
            "          DType: NoneType\n",
            "          Value: None\n",
            "    Option #2\n",
            "      Callable with:\n",
            "        Argument #1\n",
            "          DType: dict\n",
            "          Value: {'tanggungan': TensorSpec(shape=(None, 1), dtype=tf.int64, name=u'inputs/tanggungan'), 'gaji': TensorSpec(shape=(None, 1), dtype=tf.float64, name=u'inputs/gaji'), 'pekerjaan': TensorSpec(shape=(None, 1), dtype=tf.int64, name=u'inputs/pekerjaan'), 'umur': TensorSpec(shape=(None, 1), dtype=tf.int64, name=u'inputs/umur'), \b\b}\n",
            "        Argument #2\n",
            "          DType: bool\n",
            "          Value: False\n",
            "        Argument #3\n",
            "          DType: NoneType\n",
            "          Value: None\n",
            "    Option #3\n",
            "      Callable with:\n",
            "        Argument #1\n",
            "          DType: dict\n",
            "          Value: {'tanggungan': TensorSpec(shape=(None, 1), dtype=tf.int64, name=u'tanggungan'), 'umur': TensorSpec(shape=(None, 1), dtype=tf.int64, name=u'umur'), 'pekerjaan': TensorSpec(shape=(None, 1), dtype=tf.int64, name=u'pekerjaan'), 'gaji': TensorSpec(shape=(None, 1), dtype=tf.float64, name=u'gaji'), \b\b}\n",
            "        Argument #2\n",
            "          DType: bool\n",
            "          Value: True\n",
            "        Argument #3\n",
            "          DType: NoneType\n",
            "          Value: None\n",
            "    Option #4\n",
            "      Callable with:\n",
            "        Argument #1\n",
            "          DType: dict\n",
            "          Value: {'tanggungan': TensorSpec(shape=(None, 1), dtype=tf.int64, name=u'tanggungan'), 'umur': TensorSpec(shape=(None, 1), dtype=tf.int64, name=u'umur'), 'pekerjaan': TensorSpec(shape=(None, 1), dtype=tf.int64, name=u'pekerjaan'), 'gaji': TensorSpec(shape=(None, 1), dtype=tf.float64, name=u'gaji'), \b\b}\n",
            "        Argument #2\n",
            "          DType: bool\n",
            "          Value: False\n",
            "        Argument #3\n",
            "          DType: NoneType\n",
            "          Value: None\n",
            "W0608 14:31:54.394449 139982505367424 util.py:144] Unresolved object in checkpoint: (root).layer-0._resources.pekerjaan.pekerjaan_lookup._initializer\n",
            "W0608 14:31:54.394681 139982505367424 util.py:152] A checkpoint was restored (e.g. tf.train.Checkpoint.restore or tf.keras.Model.load_weights) but not all checkpointed values were used. See above for specific issues. Use expect_partial() on the load status object, e.g. tf.train.Checkpoint.restore(...).expect_partial(), to silence these warnings, or use assert_consumed() to make the check explicit. See https://www.tensorflow.org/guide/checkpoint#loading_mechanics for details.\n"
          ],
          "name": "stdout"
        }
      ]
    },
    {
      "cell_type": "code",
      "metadata": {
        "id": "cOyXWT7jAZTn",
        "colab": {
          "base_uri": "https://localhost:8080/"
        },
        "outputId": "1f7e498a-01ce-4568-ebb7-a9dc279a3829"
      },
      "source": [
        "os.environ[\"MODEL_DIR\"] = MODEL_DIR\n",
        "print(MODEL_DIR)"
      ],
      "execution_count": null,
      "outputs": [
        {
          "output_type": "stream",
          "text": [
            "/tmp\n"
          ],
          "name": "stdout"
        }
      ]
    },
    {
      "cell_type": "markdown",
      "metadata": {
        "id": "ARmsAmfQBgLB"
      },
      "source": [
        "## Serve model"
      ]
    },
    {
      "cell_type": "code",
      "metadata": {
        "colab": {
          "base_uri": "https://localhost:8080/"
        },
        "id": "czCjZdCSAbsG",
        "outputId": "4a84f3be-e029-4a60-e83a-92af801f66ae"
      },
      "source": [
        "%%bash --bg \n",
        "nohup tensorflow_model_server \\\n",
        "  --rest_api_port=8501 \\\n",
        "  --model_name=bsd \\\n",
        "  --model_base_path=\"${MODEL_DIR}\" >server.log 2>&1"
      ],
      "execution_count": null,
      "outputs": [
        {
          "output_type": "stream",
          "text": [
            "Starting job # 3 in a separate thread.\n"
          ],
          "name": "stdout"
        }
      ]
    },
    {
      "cell_type": "code",
      "metadata": {
        "colab": {
          "base_uri": "https://localhost:8080/"
        },
        "id": "tCnL57LQAc6W",
        "outputId": "94a6cd73-d05d-4ef1-dce1-46bb5b3012a4"
      },
      "source": [
        "!tail server.log"
      ],
      "execution_count": null,
      "outputs": [
        {
          "output_type": "stream",
          "text": [
            "2021-05-27 11:50:58.538642: I external/org_tensorflow/tensorflow/cc/saved_model/loader.cc:190] Running initialization op on SavedModel bundle at path: /tmp/1\n",
            "2021-05-27 11:50:58.549654: I external/org_tensorflow/tensorflow/cc/saved_model/loader.cc:277] SavedModel load for tags { serve }; Status: success: OK. Took 76786 microseconds.\n",
            "2021-05-27 11:50:58.551312: I tensorflow_serving/servables/tensorflow/saved_model_warmup_util.cc:59] No warmup data file found at /tmp/1/assets.extra/tf_serving_warmup_requests\n",
            "2021-05-27 11:50:58.551471: I tensorflow_serving/core/loader_harness.cc:87] Successfully loaded servable version {name: bsd version: 1}\n",
            "2021-05-27 11:50:58.552157: I tensorflow_serving/model_servers/server_core.cc:486] Finished adding/updating models\n",
            "2021-05-27 11:50:58.552227: I tensorflow_serving/model_servers/server.cc:367] Profiler service is enabled\n",
            "2021-05-27 11:50:58.552843: I tensorflow_serving/model_servers/server.cc:393] Running gRPC ModelServer at 0.0.0.0:8500 ...\n",
            "[warn] getaddrinfo: address family for nodename not supported\n",
            "2021-05-27 11:50:58.553497: I tensorflow_serving/model_servers/server.cc:414] Exporting HTTP/REST API at:localhost:8501 ...\n",
            "[evhttp_server.cc : 245] NET_LOG: Entering the event loop ...\n"
          ],
          "name": "stdout"
        }
      ]
    },
    {
      "cell_type": "markdown",
      "metadata": {
        "id": "A2iYpffmBqtH"
      },
      "source": [
        "## Sample request"
      ]
    },
    {
      "cell_type": "code",
      "metadata": {
        "colab": {
          "base_uri": "https://localhost:8080/"
        },
        "id": "W-jZCF5RByD8",
        "outputId": "c2702490-1f77-4b78-d9a6-62d32c069af7"
      },
      "source": [
        "import json\n",
        "import requests\n",
        "\n",
        "xs = [{\"gaji\": [test.iloc[0][1]], \"pekerjaan\": [int(test.iloc[0][3])], \"tanggungan\": [int(test.iloc[0][2])], \"umur\": [int(test.iloc[0][0])]}]\n",
        "print(\"Data:\", xs)\n",
        "\n",
        "data = json.dumps({\"signature_name\": \"serving_default\", \"instances\": xs})\n",
        "\n",
        "headers = {\"content-type\": \"application/json\"}\n",
        "json_response = requests.post('http://34.101.148.92:8501/v1/models/bsd:predict', data=data, headers=headers)\n",
        "\n",
        "predictions = json.loads(json_response.text)['predictions']\n",
        "print(predictions)"
      ],
      "execution_count": null,
      "outputs": [
        {
          "output_type": "stream",
          "text": [
            "Data: [{'gaji': [2.2], 'pekerjaan': [5], 'tanggungan': [4], 'umur': [57]}, {'gaji': [0.0], 'pekerjaan': [0], 'tanggungan': [1], 'umur': [65]}]\n",
            "[[0.833278537], [0.96526444]]\n"
          ],
          "name": "stdout"
        }
      ]
    }
  ]
}