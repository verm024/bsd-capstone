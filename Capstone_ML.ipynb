{
  "nbformat": 4,
  "nbformat_minor": 0,
  "metadata": {
    "colab": {
      "name": "Capstone ML.ipynb",
      "provenance": [],
      "collapsed_sections": [],
      "toc_visible": true,
      "include_colab_link": true
    },
    "kernelspec": {
      "name": "python3",
      "display_name": "Python 3"
    },
    "language_info": {
      "name": "python"
    }
  },
  "cells": [
    {
      "cell_type": "markdown",
      "metadata": {
        "id": "view-in-github",
        "colab_type": "text"
      },
      "source": [
        "<a href=\"https://colab.research.google.com/github/verm024/bsd-capstone/blob/main/Capstone_ML.ipynb\" target=\"_parent\"><img src=\"https://colab.research.google.com/assets/colab-badge.svg\" alt=\"Open In Colab\"/></a>"
      ]
    },
    {
      "cell_type": "markdown",
      "metadata": {
        "id": "JE2wTz_RYKMU"
      },
      "source": [
        "**Code Steps**\n",
        "<br>\n",
        "\n",
        "1.   Load dataset CSV\n",
        "2.   Split data into training and test\n",
        "3.   Extract feature columns\n",
        "4.   Initiate model & layer\n",
        "5.   Add train function and train the model\n",
        "6.   Export model into JSON format (or TFX format)\n"
      ]
    },
    {
      "cell_type": "markdown",
      "metadata": {
        "id": "KHefR0K1ZJ76"
      },
      "source": [
        "## Import Library"
      ]
    },
    {
      "cell_type": "code",
      "metadata": {
        "id": "JDz35Bk8YB8p"
      },
      "source": [
        "# Import\n",
        "import numpy as np\n",
        "import pandas as pd\n",
        "import tensorflow as tf\n",
        "from tensorflow import feature_column\n",
        "from tensorflow.keras import layers\n",
        "from sklearn.model_selection import train_test_split"
      ],
      "execution_count": 1,
      "outputs": []
    },
    {
      "cell_type": "markdown",
      "metadata": {
        "id": "AHoGojr-ZPYR"
      },
      "source": [
        "## Load Dataset"
      ]
    },
    {
      "cell_type": "code",
      "metadata": {
        "colab": {
          "base_uri": "https://localhost:8080/",
          "height": 402
        },
        "id": "r10hx-vVfAvR",
        "outputId": "41c043bc-f2f1-4d2c-f339-5769b0907efb"
      },
      "source": [
        "# Load Dataset CSV\n",
        "URL = 'https://docs.google.com/spreadsheets/d/1h6TldA5tUq2Vu0wHfAzHqmtSkpKHHyL6ONOaf8F4PII/export?gid=0&format=csv'\n",
        "df = pd.read_csv(URL)\n",
        "df"
      ],
      "execution_count": 3,
      "outputs": [
        {
          "output_type": "execute_result",
          "data": {
            "text/html": [
              "<div>\n",
              "<style scoped>\n",
              "    .dataframe tbody tr th:only-of-type {\n",
              "        vertical-align: middle;\n",
              "    }\n",
              "\n",
              "    .dataframe tbody tr th {\n",
              "        vertical-align: top;\n",
              "    }\n",
              "\n",
              "    .dataframe thead th {\n",
              "        text-align: right;\n",
              "    }\n",
              "</style>\n",
              "<table border=\"1\" class=\"dataframe\">\n",
              "  <thead>\n",
              "    <tr style=\"text-align: right;\">\n",
              "      <th></th>\n",
              "      <th>umur</th>\n",
              "      <th>gaji</th>\n",
              "      <th>tanggungan</th>\n",
              "      <th>pekerjaan</th>\n",
              "      <th>diterima</th>\n",
              "    </tr>\n",
              "  </thead>\n",
              "  <tbody>\n",
              "    <tr>\n",
              "      <th>0</th>\n",
              "      <td>45</td>\n",
              "      <td>1.5</td>\n",
              "      <td>5</td>\n",
              "      <td>8</td>\n",
              "      <td>1</td>\n",
              "    </tr>\n",
              "    <tr>\n",
              "      <th>1</th>\n",
              "      <td>50</td>\n",
              "      <td>2.5</td>\n",
              "      <td>6</td>\n",
              "      <td>5</td>\n",
              "      <td>1</td>\n",
              "    </tr>\n",
              "    <tr>\n",
              "      <th>2</th>\n",
              "      <td>60</td>\n",
              "      <td>0.0</td>\n",
              "      <td>1</td>\n",
              "      <td>0</td>\n",
              "      <td>1</td>\n",
              "    </tr>\n",
              "    <tr>\n",
              "      <th>3</th>\n",
              "      <td>42</td>\n",
              "      <td>1.6</td>\n",
              "      <td>3</td>\n",
              "      <td>5</td>\n",
              "      <td>1</td>\n",
              "    </tr>\n",
              "    <tr>\n",
              "      <th>4</th>\n",
              "      <td>63</td>\n",
              "      <td>0.2</td>\n",
              "      <td>0</td>\n",
              "      <td>1</td>\n",
              "      <td>1</td>\n",
              "    </tr>\n",
              "    <tr>\n",
              "      <th>...</th>\n",
              "      <td>...</td>\n",
              "      <td>...</td>\n",
              "      <td>...</td>\n",
              "      <td>...</td>\n",
              "      <td>...</td>\n",
              "    </tr>\n",
              "    <tr>\n",
              "      <th>57</th>\n",
              "      <td>47</td>\n",
              "      <td>2.7</td>\n",
              "      <td>1</td>\n",
              "      <td>2</td>\n",
              "      <td>0</td>\n",
              "    </tr>\n",
              "    <tr>\n",
              "      <th>58</th>\n",
              "      <td>58</td>\n",
              "      <td>5.7</td>\n",
              "      <td>2</td>\n",
              "      <td>10</td>\n",
              "      <td>0</td>\n",
              "    </tr>\n",
              "    <tr>\n",
              "      <th>59</th>\n",
              "      <td>34</td>\n",
              "      <td>2.1</td>\n",
              "      <td>3</td>\n",
              "      <td>9</td>\n",
              "      <td>0</td>\n",
              "    </tr>\n",
              "    <tr>\n",
              "      <th>60</th>\n",
              "      <td>19</td>\n",
              "      <td>0.2</td>\n",
              "      <td>0</td>\n",
              "      <td>4</td>\n",
              "      <td>0</td>\n",
              "    </tr>\n",
              "    <tr>\n",
              "      <th>61</th>\n",
              "      <td>28</td>\n",
              "      <td>2.0</td>\n",
              "      <td>1</td>\n",
              "      <td>2</td>\n",
              "      <td>0</td>\n",
              "    </tr>\n",
              "  </tbody>\n",
              "</table>\n",
              "<p>62 rows × 5 columns</p>\n",
              "</div>"
            ],
            "text/plain": [
              "    umur  gaji  tanggungan  pekerjaan  diterima\n",
              "0     45   1.5           5          8         1\n",
              "1     50   2.5           6          5         1\n",
              "2     60   0.0           1          0         1\n",
              "3     42   1.6           3          5         1\n",
              "4     63   0.2           0          1         1\n",
              "..   ...   ...         ...        ...       ...\n",
              "57    47   2.7           1          2         0\n",
              "58    58   5.7           2         10         0\n",
              "59    34   2.1           3          9         0\n",
              "60    19   0.2           0          4         0\n",
              "61    28   2.0           1          2         0\n",
              "\n",
              "[62 rows x 5 columns]"
            ]
          },
          "metadata": {
            "tags": []
          },
          "execution_count": 3
        }
      ]
    },
    {
      "cell_type": "markdown",
      "metadata": {
        "id": "fF1BddcoZTrR"
      },
      "source": [
        "## Split Train, Validation, Test"
      ]
    },
    {
      "cell_type": "code",
      "metadata": {
        "colab": {
          "base_uri": "https://localhost:8080/"
        },
        "id": "g4y7zDjHSyM5",
        "outputId": "2bddcdac-6d1d-4071-ed2a-8e39367b5100"
      },
      "source": [
        "train, test = train_test_split(df, test_size=0.2)\n",
        "train, val = train_test_split(train, test_size=0.2)\n",
        "print(len(train), 'train examples')\n",
        "print(len(val), 'validation examples')\n",
        "print(len(test), 'test examples')"
      ],
      "execution_count": 4,
      "outputs": [
        {
          "output_type": "stream",
          "text": [
            "39 train examples\n",
            "10 validation examples\n",
            "13 test examples\n"
          ],
          "name": "stdout"
        }
      ]
    },
    {
      "cell_type": "markdown",
      "metadata": {
        "id": "HydFhjZLZXMZ"
      },
      "source": [
        "## Convert dataframe to tf.data\n"
      ]
    },
    {
      "cell_type": "code",
      "metadata": {
        "id": "WOOy75CeTMWA"
      },
      "source": [
        "def df_to_dataset(dataframe, shuffle=True, batch_size=32):\n",
        "  dataframe = dataframe.copy()\n",
        "  labels = dataframe.pop('diterima')\n",
        "  ds = tf.data.Dataset.from_tensor_slices((dict(dataframe), labels))\n",
        "  if shuffle:\n",
        "    ds = ds.shuffle(buffer_size=len(dataframe))\n",
        "  ds = ds.batch(batch_size)\n",
        "  return ds"
      ],
      "execution_count": 5,
      "outputs": []
    },
    {
      "cell_type": "code",
      "metadata": {
        "colab": {
          "base_uri": "https://localhost:8080/"
        },
        "id": "cXcIDC-WTNWo",
        "outputId": "97dd1749-7fef-49d8-8055-29fd39e783c2"
      },
      "source": [
        "batch_size = 5 # A small batch sized is used for demonstration purposes\n",
        "train_ds = df_to_dataset(train, batch_size=batch_size)\n",
        "val_ds = df_to_dataset(val, shuffle=False, batch_size=batch_size)\n",
        "test_ds = df_to_dataset(test, shuffle=False, batch_size=batch_size)\n",
        "print(train_ds)"
      ],
      "execution_count": 6,
      "outputs": [
        {
          "output_type": "stream",
          "text": [
            "<BatchDataset shapes: ({umur: (None,), gaji: (None,), tanggungan: (None,), pekerjaan: (None,)}, (None,)), types: ({umur: tf.int64, gaji: tf.float64, tanggungan: tf.int64, pekerjaan: tf.int64}, tf.int64)>\n"
          ],
          "name": "stdout"
        }
      ]
    },
    {
      "cell_type": "code",
      "metadata": {
        "colab": {
          "base_uri": "https://localhost:8080/"
        },
        "id": "2DSFxLp9Zs1h",
        "outputId": "3d3a385c-b87c-47aa-9d6e-361d8abcb22a"
      },
      "source": [
        "for feature_batch, label_batch in train_ds.take(1):\n",
        "  print('Every feature:', list(feature_batch.keys()))\n",
        "  print('A batch of ages:', feature_batch['umur'])\n",
        "  print('A batch of targets:', label_batch )"
      ],
      "execution_count": 7,
      "outputs": [
        {
          "output_type": "stream",
          "text": [
            "Every feature: ['umur', 'gaji', 'tanggungan', 'pekerjaan']\n",
            "A batch of ages: tf.Tensor([38 63 38 54 63], shape=(5,), dtype=int64)\n",
            "A batch of targets: tf.Tensor([0 1 1 1 0], shape=(5,), dtype=int64)\n"
          ],
          "name": "stdout"
        }
      ]
    },
    {
      "cell_type": "markdown",
      "metadata": {
        "id": "LFvBSxuwZf3w"
      },
      "source": [
        "## Extract Feature Columns"
      ]
    },
    {
      "cell_type": "code",
      "metadata": {
        "id": "nxLbZ1AlaA-6"
      },
      "source": [
        "example_batch = next(iter(train_ds))[0]\n",
        "\n",
        "def demo(feature_column):\n",
        "  feature_layer = layers.DenseFeatures(feature_column)\n",
        "  print(feature_layer(example_batch).numpy())"
      ],
      "execution_count": 8,
      "outputs": []
    },
    {
      "cell_type": "code",
      "metadata": {
        "colab": {
          "base_uri": "https://localhost:8080/"
        },
        "id": "lkKYwlgAaOTR",
        "outputId": "82573503-d588-4a8b-daa1-815db608fe8f"
      },
      "source": [
        "umur = feature_column.numeric_column(\"umur\")\n",
        "demo(umur)\n",
        "umur_buckets = feature_column.bucketized_column(umur, boundaries=[25, 35, 45, 55, 65])\n",
        "demo(umur_buckets)"
      ],
      "execution_count": 9,
      "outputs": [
        {
          "output_type": "stream",
          "text": [
            "[[35.]\n",
            " [51.]\n",
            " [32.]\n",
            " [54.]\n",
            " [37.]]\n",
            "[[0. 0. 1. 0. 0. 0.]\n",
            " [0. 0. 0. 1. 0. 0.]\n",
            " [0. 1. 0. 0. 0. 0.]\n",
            " [0. 0. 0. 1. 0. 0.]\n",
            " [0. 0. 1. 0. 0. 0.]]\n"
          ],
          "name": "stdout"
        }
      ]
    },
    {
      "cell_type": "code",
      "metadata": {
        "colab": {
          "base_uri": "https://localhost:8080/"
        },
        "id": "-TWkC3qicC5l",
        "outputId": "3feeee3d-5366-415a-ca28-d2a4aefbbbf1"
      },
      "source": [
        "# 0\tTidak Bekerja\n",
        "# 1\tPensiunan\n",
        "# 2\tPNS\n",
        "# 3\tWiraswasta\n",
        "# 4\tKaryawan\n",
        "# 5\tPetani/Nelayan/Peternak\n",
        "# 6\tPegawai Pemerintah\n",
        "# 7\tPekerja kasar\n",
        "# 8\tBuruh pabrik\n",
        "# 9\tPemuka Agama\n",
        "# 10\tLainnya\n",
        "\n",
        "pekerjaan = feature_column.categorical_column_with_vocabulary_list(\n",
        "      'pekerjaan', [0, 1, 2, 3, 4, 5, 6, 7, 8, 9, 10])\n",
        "\n",
        "pekerjaan_one_hot = feature_column.indicator_column(pekerjaan)\n",
        "demo(pekerjaan_one_hot)"
      ],
      "execution_count": 10,
      "outputs": [
        {
          "output_type": "stream",
          "text": [
            "[[0. 0. 0. 0. 1. 0. 0. 0. 0. 0. 0.]\n",
            " [0. 0. 0. 0. 0. 0. 0. 1. 0. 0. 0.]\n",
            " [0. 0. 0. 0. 0. 1. 0. 0. 0. 0. 0.]\n",
            " [0. 0. 0. 0. 0. 0. 0. 0. 1. 0. 0.]\n",
            " [0. 0. 0. 0. 0. 0. 0. 1. 0. 0. 0.]]\n"
          ],
          "name": "stdout"
        }
      ]
    },
    {
      "cell_type": "code",
      "metadata": {
        "id": "s2gssaNQcb7y"
      },
      "source": [
        "feature_columns = []\n",
        "\n",
        "# numeric cols\n",
        "for header in ['umur', 'gaji', 'tanggungan', 'pekerjaan']:\n",
        "  feature_columns.append(feature_column.numeric_column(header))\n",
        "\n",
        "# bucketized cols\n",
        "umur_buckets = feature_column.bucketized_column(umur, boundaries=[25, 35, 45, 55, 65])\n",
        "feature_columns.append(umur_buckets)\n",
        "\n",
        "# categorical cols\n",
        "pekerjaan = feature_column.categorical_column_with_vocabulary_list(\n",
        "      'pekerjaan', [0, 1, 2, 3, 4, 5, 6, 7, 8, 9, 10])\n",
        "\n",
        "pekerjaan_one_hot = feature_column.indicator_column(pekerjaan)\n",
        "feature_columns.append(pekerjaan_one_hot)"
      ],
      "execution_count": 11,
      "outputs": []
    },
    {
      "cell_type": "code",
      "metadata": {
        "id": "pLSpQhivfF_i"
      },
      "source": [
        "feature_layer = tf.keras.layers.DenseFeatures(feature_columns)"
      ],
      "execution_count": 12,
      "outputs": []
    },
    {
      "cell_type": "code",
      "metadata": {
        "id": "k_EgP8HJfIsn"
      },
      "source": [
        "batch_size = 32\n",
        "train_ds = df_to_dataset(train, batch_size=batch_size)\n",
        "val_ds = df_to_dataset(val, shuffle=False, batch_size=batch_size)\n",
        "test_ds = df_to_dataset(test, shuffle=False, batch_size=batch_size)"
      ],
      "execution_count": 13,
      "outputs": []
    },
    {
      "cell_type": "code",
      "metadata": {
        "colab": {
          "base_uri": "https://localhost:8080/"
        },
        "id": "qGaxHXCEfJVS",
        "outputId": "2ac6c9cf-7f1e-44b0-ed46-2d190ce797ad"
      },
      "source": [
        "for feature_batch, label_batch in train_ds.take(1):\n",
        "  print('Every feature:', list(feature_batch.keys()))\n",
        "  print('Age:', list(feature_batch['umur']))\n",
        "  print('A batch of ages:', feature_batch['umur'])\n",
        "  print('A batch of targets:', label_batch )"
      ],
      "execution_count": 14,
      "outputs": [
        {
          "output_type": "stream",
          "text": [
            "Every feature: ['umur', 'gaji', 'tanggungan', 'pekerjaan']\n",
            "Age: [<tf.Tensor: shape=(), dtype=int64, numpy=63>, <tf.Tensor: shape=(), dtype=int64, numpy=29>, <tf.Tensor: shape=(), dtype=int64, numpy=25>, <tf.Tensor: shape=(), dtype=int64, numpy=24>, <tf.Tensor: shape=(), dtype=int64, numpy=57>, <tf.Tensor: shape=(), dtype=int64, numpy=59>, <tf.Tensor: shape=(), dtype=int64, numpy=32>, <tf.Tensor: shape=(), dtype=int64, numpy=51>, <tf.Tensor: shape=(), dtype=int64, numpy=44>, <tf.Tensor: shape=(), dtype=int64, numpy=59>, <tf.Tensor: shape=(), dtype=int64, numpy=34>, <tf.Tensor: shape=(), dtype=int64, numpy=37>, <tf.Tensor: shape=(), dtype=int64, numpy=66>, <tf.Tensor: shape=(), dtype=int64, numpy=63>, <tf.Tensor: shape=(), dtype=int64, numpy=44>, <tf.Tensor: shape=(), dtype=int64, numpy=28>, <tf.Tensor: shape=(), dtype=int64, numpy=32>, <tf.Tensor: shape=(), dtype=int64, numpy=38>, <tf.Tensor: shape=(), dtype=int64, numpy=63>, <tf.Tensor: shape=(), dtype=int64, numpy=60>, <tf.Tensor: shape=(), dtype=int64, numpy=50>, <tf.Tensor: shape=(), dtype=int64, numpy=45>, <tf.Tensor: shape=(), dtype=int64, numpy=36>, <tf.Tensor: shape=(), dtype=int64, numpy=38>, <tf.Tensor: shape=(), dtype=int64, numpy=36>, <tf.Tensor: shape=(), dtype=int64, numpy=36>, <tf.Tensor: shape=(), dtype=int64, numpy=34>, <tf.Tensor: shape=(), dtype=int64, numpy=43>, <tf.Tensor: shape=(), dtype=int64, numpy=48>, <tf.Tensor: shape=(), dtype=int64, numpy=35>, <tf.Tensor: shape=(), dtype=int64, numpy=58>, <tf.Tensor: shape=(), dtype=int64, numpy=50>]\n",
            "A batch of ages: tf.Tensor(\n",
            "[63 29 25 24 57 59 32 51 44 59 34 37 66 63 44 28 32 38 63 60 50 45 36 38\n",
            " 36 36 34 43 48 35 58 50], shape=(32,), dtype=int64)\n",
            "A batch of targets: tf.Tensor([1 1 1 0 0 1 0 1 0 1 0 1 1 0 0 0 0 0 0 1 1 1 1 1 1 1 1 1 1 0 0 1], shape=(32,), dtype=int64)\n"
          ],
          "name": "stdout"
        }
      ]
    },
    {
      "cell_type": "code",
      "metadata": {
        "colab": {
          "base_uri": "https://localhost:8080/"
        },
        "id": "UsgJvvXDQ9MN",
        "outputId": "443f301c-1dd2-4e9c-d90c-57bdd6691f62"
      },
      "source": [
        "model = tf.keras.Sequential([\n",
        "  feature_layer,\n",
        "  layers.Dense(128, activation='relu'),\n",
        "  layers.Dense(128, activation='relu'),\n",
        "  layers.Dense(1, activation='sigmoid')\n",
        "])\n",
        "\n",
        "model.compile(optimizer='adam',\n",
        "              loss='binary_crossentropy',\n",
        "              metrics=['accuracy'])\n",
        "\n",
        "model.fit(train_ds,\n",
        "          validation_data=val_ds,\n",
        "          epochs=100)"
      ],
      "execution_count": 15,
      "outputs": [
        {
          "output_type": "stream",
          "text": [
            "Epoch 1/100\n",
            "WARNING:tensorflow:Layers in a Sequential model should only have a single input tensor, but we receive a <class 'dict'> input: {'umur': <tf.Tensor 'ExpandDims_3:0' shape=(None, 1) dtype=int64>, 'gaji': <tf.Tensor 'ExpandDims:0' shape=(None, 1) dtype=float64>, 'tanggungan': <tf.Tensor 'ExpandDims_2:0' shape=(None, 1) dtype=int64>, 'pekerjaan': <tf.Tensor 'ExpandDims_1:0' shape=(None, 1) dtype=int64>}\n",
            "Consider rewriting this model with the Functional API.\n",
            "WARNING:tensorflow:Layers in a Sequential model should only have a single input tensor, but we receive a <class 'dict'> input: {'umur': <tf.Tensor 'ExpandDims_3:0' shape=(None, 1) dtype=int64>, 'gaji': <tf.Tensor 'ExpandDims:0' shape=(None, 1) dtype=float64>, 'tanggungan': <tf.Tensor 'ExpandDims_2:0' shape=(None, 1) dtype=int64>, 'pekerjaan': <tf.Tensor 'ExpandDims_1:0' shape=(None, 1) dtype=int64>}\n",
            "Consider rewriting this model with the Functional API.\n",
            "1/2 [==============>...............] - ETA: 0s - loss: 3.4099 - accuracy: 0.4688WARNING:tensorflow:Layers in a Sequential model should only have a single input tensor, but we receive a <class 'dict'> input: {'umur': <tf.Tensor 'ExpandDims_3:0' shape=(None, 1) dtype=int64>, 'gaji': <tf.Tensor 'ExpandDims:0' shape=(None, 1) dtype=float64>, 'tanggungan': <tf.Tensor 'ExpandDims_2:0' shape=(None, 1) dtype=int64>, 'pekerjaan': <tf.Tensor 'ExpandDims_1:0' shape=(None, 1) dtype=int64>}\n",
            "Consider rewriting this model with the Functional API.\n",
            "2/2 [==============================] - 1s 261ms/step - loss: 3.3286 - accuracy: 0.4639 - val_loss: 1.5800 - val_accuracy: 0.5000\n",
            "Epoch 2/100\n",
            "2/2 [==============================] - 0s 38ms/step - loss: 1.4932 - accuracy: 0.4431 - val_loss: 0.6352 - val_accuracy: 0.5000\n",
            "Epoch 3/100\n",
            "2/2 [==============================] - 0s 38ms/step - loss: 0.7245 - accuracy: 0.5636 - val_loss: 0.9325 - val_accuracy: 0.5000\n",
            "Epoch 4/100\n",
            "2/2 [==============================] - 0s 45ms/step - loss: 1.1209 - accuracy: 0.5465 - val_loss: 0.9631 - val_accuracy: 0.5000\n",
            "Epoch 5/100\n",
            "2/2 [==============================] - 0s 37ms/step - loss: 1.0856 - accuracy: 0.5569 - val_loss: 0.7425 - val_accuracy: 0.5000\n",
            "Epoch 6/100\n",
            "2/2 [==============================] - 0s 36ms/step - loss: 0.8018 - accuracy: 0.5465 - val_loss: 0.6103 - val_accuracy: 0.8000\n",
            "Epoch 7/100\n",
            "2/2 [==============================] - 0s 38ms/step - loss: 0.6756 - accuracy: 0.5569 - val_loss: 0.8474 - val_accuracy: 0.5000\n",
            "Epoch 8/100\n",
            "2/2 [==============================] - 0s 35ms/step - loss: 0.8207 - accuracy: 0.4639 - val_loss: 0.9199 - val_accuracy: 0.5000\n",
            "Epoch 9/100\n",
            "2/2 [==============================] - 0s 33ms/step - loss: 0.8724 - accuracy: 0.4535 - val_loss: 0.7570 - val_accuracy: 0.5000\n",
            "Epoch 10/100\n",
            "2/2 [==============================] - 0s 37ms/step - loss: 0.7251 - accuracy: 0.4639 - val_loss: 0.5936 - val_accuracy: 0.9000\n",
            "Epoch 11/100\n",
            "2/2 [==============================] - 0s 40ms/step - loss: 0.6177 - accuracy: 0.7732 - val_loss: 0.5952 - val_accuracy: 0.5000\n",
            "Epoch 12/100\n",
            "2/2 [==============================] - 0s 43ms/step - loss: 0.6692 - accuracy: 0.5361 - val_loss: 0.6448 - val_accuracy: 0.5000\n",
            "Epoch 13/100\n",
            "2/2 [==============================] - 0s 35ms/step - loss: 0.7639 - accuracy: 0.5152 - val_loss: 0.6368 - val_accuracy: 0.5000\n",
            "Epoch 14/100\n",
            "2/2 [==============================] - 0s 39ms/step - loss: 0.7272 - accuracy: 0.5361 - val_loss: 0.5865 - val_accuracy: 0.5000\n",
            "Epoch 15/100\n",
            "2/2 [==============================] - 0s 36ms/step - loss: 0.6192 - accuracy: 0.5740 - val_loss: 0.5442 - val_accuracy: 0.8000\n",
            "Epoch 16/100\n",
            "2/2 [==============================] - 0s 38ms/step - loss: 0.5790 - accuracy: 0.7561 - val_loss: 0.6322 - val_accuracy: 0.5000\n",
            "Epoch 17/100\n",
            "2/2 [==============================] - 0s 38ms/step - loss: 0.6478 - accuracy: 0.4639 - val_loss: 0.7048 - val_accuracy: 0.5000\n",
            "Epoch 18/100\n",
            "2/2 [==============================] - 0s 38ms/step - loss: 0.6914 - accuracy: 0.4744 - val_loss: 0.6130 - val_accuracy: 0.6000\n",
            "Epoch 19/100\n",
            "2/2 [==============================] - 0s 39ms/step - loss: 0.6158 - accuracy: 0.5532 - val_loss: 0.5259 - val_accuracy: 0.9000\n",
            "Epoch 20/100\n",
            "2/2 [==============================] - 0s 40ms/step - loss: 0.5729 - accuracy: 0.7495 - val_loss: 0.5335 - val_accuracy: 0.6000\n",
            "Epoch 21/100\n",
            "2/2 [==============================] - 0s 40ms/step - loss: 0.5856 - accuracy: 0.5636 - val_loss: 0.5310 - val_accuracy: 0.6000\n",
            "Epoch 22/100\n",
            "2/2 [==============================] - 0s 42ms/step - loss: 0.5691 - accuracy: 0.5844 - val_loss: 0.5121 - val_accuracy: 0.7000\n",
            "Epoch 23/100\n",
            "2/2 [==============================] - 0s 39ms/step - loss: 0.5518 - accuracy: 0.7799 - val_loss: 0.5159 - val_accuracy: 0.9000\n",
            "Epoch 24/100\n",
            "2/2 [==============================] - 0s 36ms/step - loss: 0.5365 - accuracy: 0.9383 - val_loss: 0.5351 - val_accuracy: 0.9000\n",
            "Epoch 25/100\n",
            "2/2 [==============================] - 0s 35ms/step - loss: 0.5547 - accuracy: 0.7903 - val_loss: 0.5399 - val_accuracy: 0.9000\n",
            "Epoch 26/100\n",
            "2/2 [==============================] - 0s 37ms/step - loss: 0.5549 - accuracy: 0.7353 - val_loss: 0.5163 - val_accuracy: 0.9000\n",
            "Epoch 27/100\n",
            "2/2 [==============================] - 0s 39ms/step - loss: 0.5385 - accuracy: 0.7903 - val_loss: 0.4870 - val_accuracy: 0.9000\n",
            "Epoch 28/100\n",
            "2/2 [==============================] - 0s 41ms/step - loss: 0.5097 - accuracy: 0.9279 - val_loss: 0.4730 - val_accuracy: 0.9000\n",
            "Epoch 29/100\n",
            "2/2 [==============================] - 0s 35ms/step - loss: 0.5058 - accuracy: 0.8624 - val_loss: 0.4676 - val_accuracy: 0.9000\n",
            "Epoch 30/100\n",
            "2/2 [==============================] - 0s 36ms/step - loss: 0.5114 - accuracy: 0.8178 - val_loss: 0.4606 - val_accuracy: 0.9000\n",
            "Epoch 31/100\n",
            "2/2 [==============================] - 0s 36ms/step - loss: 0.5019 - accuracy: 0.8349 - val_loss: 0.4515 - val_accuracy: 0.9000\n",
            "Epoch 32/100\n",
            "2/2 [==============================] - 0s 37ms/step - loss: 0.4885 - accuracy: 0.8454 - val_loss: 0.4440 - val_accuracy: 0.9000\n",
            "Epoch 33/100\n",
            "2/2 [==============================] - 0s 35ms/step - loss: 0.4768 - accuracy: 0.9450 - val_loss: 0.4404 - val_accuracy: 0.9000\n",
            "Epoch 34/100\n",
            "2/2 [==============================] - 0s 43ms/step - loss: 0.4746 - accuracy: 0.9108 - val_loss: 0.4354 - val_accuracy: 0.9000\n",
            "Epoch 35/100\n",
            "2/2 [==============================] - 0s 36ms/step - loss: 0.4765 - accuracy: 0.9175 - val_loss: 0.4267 - val_accuracy: 0.9000\n",
            "Epoch 36/100\n",
            "2/2 [==============================] - 0s 39ms/step - loss: 0.4632 - accuracy: 0.9175 - val_loss: 0.4192 - val_accuracy: 0.9000\n",
            "Epoch 37/100\n",
            "2/2 [==============================] - 0s 40ms/step - loss: 0.4562 - accuracy: 0.9279 - val_loss: 0.4101 - val_accuracy: 0.9000\n",
            "Epoch 38/100\n",
            "2/2 [==============================] - 0s 37ms/step - loss: 0.4502 - accuracy: 0.9450 - val_loss: 0.4012 - val_accuracy: 0.9000\n",
            "Epoch 39/100\n",
            "2/2 [==============================] - 0s 47ms/step - loss: 0.4433 - accuracy: 0.9450 - val_loss: 0.3944 - val_accuracy: 0.9000\n",
            "Epoch 40/100\n",
            "2/2 [==============================] - 0s 37ms/step - loss: 0.4376 - accuracy: 0.9450 - val_loss: 0.3961 - val_accuracy: 0.9000\n",
            "Epoch 41/100\n",
            "2/2 [==============================] - 0s 43ms/step - loss: 0.4440 - accuracy: 0.8074 - val_loss: 0.3942 - val_accuracy: 0.9000\n",
            "Epoch 42/100\n",
            "2/2 [==============================] - 0s 40ms/step - loss: 0.4311 - accuracy: 0.8178 - val_loss: 0.3814 - val_accuracy: 0.9000\n",
            "Epoch 43/100\n",
            "2/2 [==============================] - 0s 39ms/step - loss: 0.4232 - accuracy: 0.8729 - val_loss: 0.3673 - val_accuracy: 0.9000\n",
            "Epoch 44/100\n",
            "2/2 [==============================] - 0s 42ms/step - loss: 0.4159 - accuracy: 0.9450 - val_loss: 0.3619 - val_accuracy: 0.9000\n",
            "Epoch 45/100\n",
            "2/2 [==============================] - 0s 39ms/step - loss: 0.4071 - accuracy: 0.9279 - val_loss: 0.3546 - val_accuracy: 0.9000\n",
            "Epoch 46/100\n",
            "2/2 [==============================] - 0s 37ms/step - loss: 0.3937 - accuracy: 0.9554 - val_loss: 0.3482 - val_accuracy: 0.9000\n",
            "Epoch 47/100\n",
            "2/2 [==============================] - 0s 39ms/step - loss: 0.3878 - accuracy: 0.9450 - val_loss: 0.3460 - val_accuracy: 0.9000\n",
            "Epoch 48/100\n",
            "2/2 [==============================] - 0s 37ms/step - loss: 0.3834 - accuracy: 0.9108 - val_loss: 0.3476 - val_accuracy: 0.9000\n",
            "Epoch 49/100\n",
            "2/2 [==============================] - 0s 38ms/step - loss: 0.3932 - accuracy: 0.9004 - val_loss: 0.3392 - val_accuracy: 0.9000\n",
            "Epoch 50/100\n",
            "2/2 [==============================] - 0s 38ms/step - loss: 0.3849 - accuracy: 0.9175 - val_loss: 0.3291 - val_accuracy: 0.9000\n",
            "Epoch 51/100\n",
            "2/2 [==============================] - 0s 40ms/step - loss: 0.3684 - accuracy: 0.9450 - val_loss: 0.3203 - val_accuracy: 0.9000\n",
            "Epoch 52/100\n",
            "2/2 [==============================] - 0s 41ms/step - loss: 0.3625 - accuracy: 0.9450 - val_loss: 0.3156 - val_accuracy: 0.9000\n",
            "Epoch 53/100\n",
            "2/2 [==============================] - 0s 48ms/step - loss: 0.3572 - accuracy: 0.9725 - val_loss: 0.3077 - val_accuracy: 0.9000\n",
            "Epoch 54/100\n",
            "2/2 [==============================] - 0s 37ms/step - loss: 0.3463 - accuracy: 1.0000 - val_loss: 0.3048 - val_accuracy: 0.9000\n",
            "Epoch 55/100\n",
            "2/2 [==============================] - 0s 40ms/step - loss: 0.3418 - accuracy: 0.9450 - val_loss: 0.3141 - val_accuracy: 0.9000\n",
            "Epoch 56/100\n",
            "2/2 [==============================] - 0s 45ms/step - loss: 0.3482 - accuracy: 0.8833 - val_loss: 0.3203 - val_accuracy: 0.9000\n",
            "Epoch 57/100\n",
            "2/2 [==============================] - 0s 45ms/step - loss: 0.3564 - accuracy: 0.8454 - val_loss: 0.3054 - val_accuracy: 0.9000\n",
            "Epoch 58/100\n",
            "2/2 [==============================] - 0s 39ms/step - loss: 0.3341 - accuracy: 0.9004 - val_loss: 0.2796 - val_accuracy: 0.9000\n",
            "Epoch 59/100\n",
            "2/2 [==============================] - 0s 39ms/step - loss: 0.3153 - accuracy: 0.9554 - val_loss: 0.2945 - val_accuracy: 0.9000\n",
            "Epoch 60/100\n",
            "2/2 [==============================] - 0s 39ms/step - loss: 0.3576 - accuracy: 0.8729 - val_loss: 0.2950 - val_accuracy: 0.9000\n",
            "Epoch 61/100\n",
            "2/2 [==============================] - 0s 48ms/step - loss: 0.3480 - accuracy: 0.8729 - val_loss: 0.2678 - val_accuracy: 0.9000\n",
            "Epoch 62/100\n",
            "2/2 [==============================] - 0s 42ms/step - loss: 0.3197 - accuracy: 0.9725 - val_loss: 0.2670 - val_accuracy: 0.9000\n",
            "Epoch 63/100\n",
            "2/2 [==============================] - 0s 41ms/step - loss: 0.2929 - accuracy: 0.9450 - val_loss: 0.2656 - val_accuracy: 0.9000\n",
            "Epoch 64/100\n",
            "2/2 [==============================] - 0s 59ms/step - loss: 0.2928 - accuracy: 0.9450 - val_loss: 0.2662 - val_accuracy: 0.9000\n",
            "Epoch 65/100\n",
            "2/2 [==============================] - 0s 43ms/step - loss: 0.2998 - accuracy: 0.9279 - val_loss: 0.2653 - val_accuracy: 0.9000\n",
            "Epoch 66/100\n",
            "2/2 [==============================] - 0s 37ms/step - loss: 0.2996 - accuracy: 0.9175 - val_loss: 0.2524 - val_accuracy: 0.9000\n",
            "Epoch 67/100\n",
            "2/2 [==============================] - 0s 41ms/step - loss: 0.2790 - accuracy: 0.9725 - val_loss: 0.2454 - val_accuracy: 0.9000\n",
            "Epoch 68/100\n",
            "2/2 [==============================] - 0s 41ms/step - loss: 0.2706 - accuracy: 0.9829 - val_loss: 0.2380 - val_accuracy: 0.9000\n",
            "Epoch 69/100\n",
            "2/2 [==============================] - 0s 41ms/step - loss: 0.2690 - accuracy: 1.0000 - val_loss: 0.2329 - val_accuracy: 0.9000\n",
            "Epoch 70/100\n",
            "2/2 [==============================] - 0s 48ms/step - loss: 0.2692 - accuracy: 0.9725 - val_loss: 0.2314 - val_accuracy: 0.9000\n",
            "Epoch 71/100\n",
            "2/2 [==============================] - 0s 38ms/step - loss: 0.2792 - accuracy: 0.9450 - val_loss: 0.2301 - val_accuracy: 0.9000\n",
            "Epoch 72/100\n",
            "2/2 [==============================] - 0s 38ms/step - loss: 0.2855 - accuracy: 0.9175 - val_loss: 0.2245 - val_accuracy: 0.9000\n",
            "Epoch 73/100\n",
            "2/2 [==============================] - 0s 36ms/step - loss: 0.2703 - accuracy: 0.9279 - val_loss: 0.2136 - val_accuracy: 0.9000\n",
            "Epoch 74/100\n",
            "2/2 [==============================] - 0s 38ms/step - loss: 0.2341 - accuracy: 1.0000 - val_loss: 0.2302 - val_accuracy: 0.9000\n",
            "Epoch 75/100\n",
            "2/2 [==============================] - 0s 38ms/step - loss: 0.2507 - accuracy: 0.9554 - val_loss: 0.2612 - val_accuracy: 0.9000\n",
            "Epoch 76/100\n",
            "2/2 [==============================] - 0s 37ms/step - loss: 0.2873 - accuracy: 0.8624 - val_loss: 0.2499 - val_accuracy: 0.9000\n",
            "Epoch 77/100\n",
            "2/2 [==============================] - 0s 37ms/step - loss: 0.2555 - accuracy: 0.9279 - val_loss: 0.2100 - val_accuracy: 0.9000\n",
            "Epoch 78/100\n",
            "2/2 [==============================] - 0s 40ms/step - loss: 0.2237 - accuracy: 0.9725 - val_loss: 0.1956 - val_accuracy: 0.9000\n",
            "Epoch 79/100\n",
            "2/2 [==============================] - 0s 39ms/step - loss: 0.2387 - accuracy: 0.9004 - val_loss: 0.1895 - val_accuracy: 0.9000\n",
            "Epoch 80/100\n",
            "2/2 [==============================] - 0s 38ms/step - loss: 0.2376 - accuracy: 0.9175 - val_loss: 0.1857 - val_accuracy: 0.9000\n",
            "Epoch 81/100\n",
            "2/2 [==============================] - 0s 38ms/step - loss: 0.2237 - accuracy: 1.0000 - val_loss: 0.1909 - val_accuracy: 0.9000\n",
            "Epoch 82/100\n",
            "2/2 [==============================] - 0s 35ms/step - loss: 0.2059 - accuracy: 0.9725 - val_loss: 0.1944 - val_accuracy: 0.9000\n",
            "Epoch 83/100\n",
            "2/2 [==============================] - 0s 48ms/step - loss: 0.2036 - accuracy: 0.9829 - val_loss: 0.1946 - val_accuracy: 0.9000\n",
            "Epoch 84/100\n",
            "2/2 [==============================] - 0s 42ms/step - loss: 0.2131 - accuracy: 0.9450 - val_loss: 0.1952 - val_accuracy: 0.9000\n",
            "Epoch 85/100\n",
            "2/2 [==============================] - 0s 41ms/step - loss: 0.2098 - accuracy: 0.9450 - val_loss: 0.1974 - val_accuracy: 0.9000\n",
            "Epoch 86/100\n",
            "2/2 [==============================] - 0s 40ms/step - loss: 0.2083 - accuracy: 0.9554 - val_loss: 0.1865 - val_accuracy: 0.9000\n",
            "Epoch 87/100\n",
            "2/2 [==============================] - 0s 41ms/step - loss: 0.1916 - accuracy: 0.9725 - val_loss: 0.1639 - val_accuracy: 0.9000\n",
            "Epoch 88/100\n",
            "2/2 [==============================] - 0s 41ms/step - loss: 0.1941 - accuracy: 1.0000 - val_loss: 0.1616 - val_accuracy: 0.9000\n",
            "Epoch 89/100\n",
            "2/2 [==============================] - 0s 47ms/step - loss: 0.2193 - accuracy: 0.9175 - val_loss: 0.1572 - val_accuracy: 0.9000\n",
            "Epoch 90/100\n",
            "2/2 [==============================] - 0s 38ms/step - loss: 0.2005 - accuracy: 0.9450 - val_loss: 0.1615 - val_accuracy: 0.9000\n",
            "Epoch 91/100\n",
            "2/2 [==============================] - 0s 43ms/step - loss: 0.1804 - accuracy: 1.0000 - val_loss: 0.1754 - val_accuracy: 0.9000\n",
            "Epoch 92/100\n",
            "2/2 [==============================] - 0s 38ms/step - loss: 0.1805 - accuracy: 0.9725 - val_loss: 0.1915 - val_accuracy: 0.9000\n",
            "Epoch 93/100\n",
            "2/2 [==============================] - 0s 38ms/step - loss: 0.1888 - accuracy: 0.9450 - val_loss: 0.1841 - val_accuracy: 0.9000\n",
            "Epoch 94/100\n",
            "2/2 [==============================] - 0s 48ms/step - loss: 0.1807 - accuracy: 0.9725 - val_loss: 0.1623 - val_accuracy: 0.9000\n",
            "Epoch 95/100\n",
            "2/2 [==============================] - 0s 40ms/step - loss: 0.1621 - accuracy: 1.0000 - val_loss: 0.1486 - val_accuracy: 0.9000\n",
            "Epoch 96/100\n",
            "2/2 [==============================] - 0s 42ms/step - loss: 0.1762 - accuracy: 0.9725 - val_loss: 0.1458 - val_accuracy: 0.9000\n",
            "Epoch 97/100\n",
            "2/2 [==============================] - 0s 47ms/step - loss: 0.1890 - accuracy: 0.9554 - val_loss: 0.1453 - val_accuracy: 0.9000\n",
            "Epoch 98/100\n",
            "2/2 [==============================] - 0s 39ms/step - loss: 0.1776 - accuracy: 0.9450 - val_loss: 0.1552 - val_accuracy: 0.9000\n",
            "Epoch 99/100\n",
            "2/2 [==============================] - 0s 38ms/step - loss: 0.1647 - accuracy: 1.0000 - val_loss: 0.1670 - val_accuracy: 0.9000\n",
            "Epoch 100/100\n",
            "2/2 [==============================] - 0s 39ms/step - loss: 0.1641 - accuracy: 0.9829 - val_loss: 0.1653 - val_accuracy: 0.9000\n"
          ],
          "name": "stdout"
        },
        {
          "output_type": "execute_result",
          "data": {
            "text/plain": [
              "<tensorflow.python.keras.callbacks.History at 0x7f18bbf8a7d0>"
            ]
          },
          "metadata": {
            "tags": []
          },
          "execution_count": 15
        }
      ]
    },
    {
      "cell_type": "code",
      "metadata": {
        "id": "zsIASYZDREOh",
        "colab": {
          "base_uri": "https://localhost:8080/"
        },
        "outputId": "f8de6c5c-059d-4db4-db34-14857292d162"
      },
      "source": [
        "loss, accuracy = model.evaluate(test_ds)\n",
        "print(\"Accuracy\", accuracy)"
      ],
      "execution_count": 16,
      "outputs": [
        {
          "output_type": "stream",
          "text": [
            "1/1 [==============================] - 0s 22ms/step - loss: 0.2978 - accuracy: 0.8462\n",
            "Accuracy 0.8461538553237915\n"
          ],
          "name": "stdout"
        }
      ]
    },
    {
      "cell_type": "markdown",
      "metadata": {
        "id": "qK-I5scqBQRr"
      },
      "source": [
        "## Tensorflow Serving\n",
        "\n"
      ]
    },
    {
      "cell_type": "code",
      "metadata": {
        "colab": {
          "base_uri": "https://localhost:8080/"
        },
        "id": "1MkCcrFqBZLr",
        "outputId": "fb1cfcdd-bf44-42f7-cc75-6a4d4f6d7356"
      },
      "source": [
        "!echo \"deb http://storage.googleapis.com/tensorflow-serving-apt stable tensorflow-model-server tensorflow-model-server-universal\" | tee /etc/apt/sources.list.d/tensorflow-serving.list && \\\n",
        "curl https://storage.googleapis.com/tensorflow-serving-apt/tensorflow-serving.release.pub.gpg | apt-key add -\n",
        "!apt update\n",
        "!apt-get install tensorflow-model-server"
      ],
      "execution_count": 17,
      "outputs": [
        {
          "output_type": "stream",
          "text": [
            "deb http://storage.googleapis.com/tensorflow-serving-apt stable tensorflow-model-server tensorflow-model-server-universal\n",
            "  % Total    % Received % Xferd  Average Speed   Time    Time     Time  Current\n",
            "                                 Dload  Upload   Total   Spent    Left  Speed\n",
            "100  2943  100  2943    0     0  15170      0 --:--:-- --:--:-- --:--:-- 15170\n",
            "OK\n",
            "Get:1 https://cloud.r-project.org/bin/linux/ubuntu bionic-cran40/ InRelease [3,626 B]\n",
            "Get:2 http://storage.googleapis.com/tensorflow-serving-apt stable InRelease [3,012 B]\n",
            "Get:3 https://cloud.r-project.org/bin/linux/ubuntu bionic-cran40/ Packages [60.9 kB]\n",
            "Ign:4 https://developer.download.nvidia.com/compute/cuda/repos/ubuntu1804/x86_64  InRelease\n",
            "Get:5 http://security.ubuntu.com/ubuntu bionic-security InRelease [88.7 kB]\n",
            "Get:6 http://ppa.launchpad.net/c2d4u.team/c2d4u4.0+/ubuntu bionic InRelease [15.9 kB]\n",
            "Ign:7 https://developer.download.nvidia.com/compute/machine-learning/repos/ubuntu1804/x86_64  InRelease\n",
            "Get:8 https://developer.download.nvidia.com/compute/cuda/repos/ubuntu1804/x86_64  Release [697 B]\n",
            "Hit:9 https://developer.download.nvidia.com/compute/machine-learning/repos/ubuntu1804/x86_64  Release\n",
            "Get:10 https://developer.download.nvidia.com/compute/cuda/repos/ubuntu1804/x86_64  Release.gpg [836 B]\n",
            "Get:11 http://storage.googleapis.com/tensorflow-serving-apt stable/tensorflow-model-server-universal amd64 Packages [347 B]\n",
            "Hit:12 http://archive.ubuntu.com/ubuntu bionic InRelease\n",
            "Get:14 http://storage.googleapis.com/tensorflow-serving-apt stable/tensorflow-model-server amd64 Packages [340 B]\n",
            "Get:15 http://archive.ubuntu.com/ubuntu bionic-updates InRelease [88.7 kB]\n",
            "Hit:16 http://ppa.launchpad.net/cran/libgit2/ubuntu bionic InRelease\n",
            "Ign:17 https://developer.download.nvidia.com/compute/cuda/repos/ubuntu1804/x86_64  Packages\n",
            "Get:17 https://developer.download.nvidia.com/compute/cuda/repos/ubuntu1804/x86_64  Packages [798 kB]\n",
            "Hit:18 http://ppa.launchpad.net/deadsnakes/ppa/ubuntu bionic InRelease\n",
            "Get:19 http://archive.ubuntu.com/ubuntu bionic-backports InRelease [74.6 kB]\n",
            "Get:20 http://security.ubuntu.com/ubuntu bionic-security/main amd64 Packages [2,152 kB]\n",
            "Get:21 http://ppa.launchpad.net/graphics-drivers/ppa/ubuntu bionic InRelease [21.3 kB]\n",
            "Get:22 http://archive.ubuntu.com/ubuntu bionic-updates/main amd64 Packages [2,583 kB]\n",
            "Get:23 http://ppa.launchpad.net/c2d4u.team/c2d4u4.0+/ubuntu bionic/main Sources [1,769 kB]\n",
            "Get:24 http://security.ubuntu.com/ubuntu bionic-security/restricted amd64 Packages [423 kB]\n",
            "Get:25 http://security.ubuntu.com/ubuntu bionic-security/universe amd64 Packages [1,412 kB]\n",
            "Get:26 http://archive.ubuntu.com/ubuntu bionic-updates/restricted amd64 Packages [452 kB]\n",
            "Get:27 http://archive.ubuntu.com/ubuntu bionic-updates/universe amd64 Packages [2,183 kB]\n",
            "Get:28 http://ppa.launchpad.net/c2d4u.team/c2d4u4.0+/ubuntu bionic/main amd64 Packages [905 kB]\n",
            "Get:29 http://ppa.launchpad.net/graphics-drivers/ppa/ubuntu bionic/main amd64 Packages [41.5 kB]\n",
            "Fetched 13.1 MB in 7s (1,841 kB/s)\n",
            "Reading package lists... Done\n",
            "Building dependency tree       \n",
            "Reading state information... Done\n",
            "74 packages can be upgraded. Run 'apt list --upgradable' to see them.\n",
            "Reading package lists... Done\n",
            "Building dependency tree       \n",
            "Reading state information... Done\n",
            "The following package was automatically installed and is no longer required:\n",
            "  libnvidia-common-460\n",
            "Use 'apt autoremove' to remove it.\n",
            "The following NEW packages will be installed:\n",
            "  tensorflow-model-server\n",
            "0 upgraded, 1 newly installed, 0 to remove and 74 not upgraded.\n",
            "Need to get 326 MB of archives.\n",
            "After this operation, 0 B of additional disk space will be used.\n",
            "Get:1 http://storage.googleapis.com/tensorflow-serving-apt stable/tensorflow-model-server amd64 tensorflow-model-server all 2.5.1 [326 MB]\n",
            "Fetched 326 MB in 6s (57.6 MB/s)\n",
            "Selecting previously unselected package tensorflow-model-server.\n",
            "(Reading database ... 160706 files and directories currently installed.)\n",
            "Preparing to unpack .../tensorflow-model-server_2.5.1_all.deb ...\n",
            "Unpacking tensorflow-model-server (2.5.1) ...\n",
            "Setting up tensorflow-model-server (2.5.1) ...\n"
          ],
          "name": "stdout"
        }
      ]
    },
    {
      "cell_type": "markdown",
      "metadata": {
        "id": "5QaGAbHAAG4v"
      },
      "source": [
        "## Save Model"
      ]
    },
    {
      "cell_type": "code",
      "metadata": {
        "colab": {
          "base_uri": "https://localhost:8080/"
        },
        "id": "K3IllEblAMKC",
        "outputId": "7c83a266-25e6-4697-fc99-035bc1f87261"
      },
      "source": [
        "import os\n",
        "import tempfile\n",
        "\n",
        "MODEL_DIR = tempfile.gettempdir()\n",
        "version = 1\n",
        "\n",
        "export_path = os.path.join(MODEL_DIR, str(version))\n",
        "\n",
        "if os.path.isdir(export_path):\n",
        "    print('\\nAlready saved a model, cleaning up\\n')\n",
        "    !rm -r {export_path}\n",
        "\n",
        "model.save(export_path, save_format=\"tf\")\n",
        "\n",
        "print('\\nexport_path = {}'.format(export_path))\n",
        "!ls -l {export_path}"
      ],
      "execution_count": 19,
      "outputs": [
        {
          "output_type": "stream",
          "text": [
            "WARNING:tensorflow:Layers in a Sequential model should only have a single input tensor, but we receive a <class 'dict'> input: {'umur': <tf.Tensor 'umur:0' shape=(None, 1) dtype=int64>, 'gaji': <tf.Tensor 'gaji:0' shape=(None, 1) dtype=float64>, 'tanggungan': <tf.Tensor 'tanggungan:0' shape=(None, 1) dtype=int64>, 'pekerjaan': <tf.Tensor 'pekerjaan:0' shape=(None, 1) dtype=int64>}\n",
            "Consider rewriting this model with the Functional API.\n",
            "WARNING:tensorflow:Layers in a Sequential model should only have a single input tensor, but we receive a <class 'dict'> input: {'umur': <tf.Tensor 'umur:0' shape=(None, 1) dtype=int64>, 'gaji': <tf.Tensor 'gaji:0' shape=(None, 1) dtype=float64>, 'tanggungan': <tf.Tensor 'tanggungan:0' shape=(None, 1) dtype=int64>, 'pekerjaan': <tf.Tensor 'pekerjaan:0' shape=(None, 1) dtype=int64>}\n",
            "Consider rewriting this model with the Functional API.\n",
            "WARNING:tensorflow:Layers in a Sequential model should only have a single input tensor, but we receive a <class 'dict'> input: {'umur': <tf.Tensor 'umur:0' shape=(None, 1) dtype=int64>, 'gaji': <tf.Tensor 'gaji:0' shape=(None, 1) dtype=float64>, 'tanggungan': <tf.Tensor 'tanggungan:0' shape=(None, 1) dtype=int64>, 'pekerjaan': <tf.Tensor 'pekerjaan:0' shape=(None, 1) dtype=int64>}\n",
            "Consider rewriting this model with the Functional API.\n",
            "WARNING:tensorflow:Layers in a Sequential model should only have a single input tensor, but we receive a <class 'dict'> input: {'umur': <tf.Tensor 'inputs_3:0' shape=(None, 1) dtype=int64>, 'gaji': <tf.Tensor 'inputs:0' shape=(None, 1) dtype=float64>, 'tanggungan': <tf.Tensor 'inputs_2:0' shape=(None, 1) dtype=int64>, 'pekerjaan': <tf.Tensor 'inputs_1:0' shape=(None, 1) dtype=int64>}\n",
            "Consider rewriting this model with the Functional API.\n",
            "WARNING:tensorflow:Layers in a Sequential model should only have a single input tensor, but we receive a <class 'dict'> input: {'umur': <tf.Tensor 'inputs_3:0' shape=(None, 1) dtype=int64>, 'gaji': <tf.Tensor 'inputs:0' shape=(None, 1) dtype=float64>, 'tanggungan': <tf.Tensor 'inputs_2:0' shape=(None, 1) dtype=int64>, 'pekerjaan': <tf.Tensor 'inputs_1:0' shape=(None, 1) dtype=int64>}\n",
            "Consider rewriting this model with the Functional API.\n",
            "WARNING:tensorflow:Layers in a Sequential model should only have a single input tensor, but we receive a <class 'dict'> input: {'umur': <tf.Tensor 'inputs/umur:0' shape=(None, 1) dtype=int64>, 'gaji': <tf.Tensor 'inputs/gaji:0' shape=(None, 1) dtype=float64>, 'tanggungan': <tf.Tensor 'inputs/tanggungan:0' shape=(None, 1) dtype=int64>, 'pekerjaan': <tf.Tensor 'inputs/pekerjaan:0' shape=(None, 1) dtype=int64>}\n",
            "Consider rewriting this model with the Functional API.\n",
            "WARNING:tensorflow:Layers in a Sequential model should only have a single input tensor, but we receive a <class 'dict'> input: {'umur': <tf.Tensor 'inputs/umur:0' shape=(None, 1) dtype=int64>, 'gaji': <tf.Tensor 'inputs/gaji:0' shape=(None, 1) dtype=float64>, 'tanggungan': <tf.Tensor 'inputs/tanggungan:0' shape=(None, 1) dtype=int64>, 'pekerjaan': <tf.Tensor 'inputs/pekerjaan:0' shape=(None, 1) dtype=int64>}\n",
            "Consider rewriting this model with the Functional API.\n",
            "INFO:tensorflow:Assets written to: /tmp/1/assets\n",
            "\n",
            "export_path = /tmp/1\n",
            "total 236\n",
            "drwxr-xr-x 2 root root   4096 May 25 15:42 assets\n",
            "-rw-r--r-- 1 root root 232314 May 25 15:42 saved_model.pb\n",
            "drwxr-xr-x 2 root root   4096 May 25 15:42 variables\n"
          ],
          "name": "stdout"
        }
      ]
    },
    {
      "cell_type": "code",
      "metadata": {
        "colab": {
          "base_uri": "https://localhost:8080/"
        },
        "id": "_2qIzRyGAY5g",
        "outputId": "3ef61c0c-7f62-4e52-f009-ce563d10779e"
      },
      "source": [
        "!saved_model_cli show --dir {export_path} --all"
      ],
      "execution_count": 20,
      "outputs": [
        {
          "output_type": "stream",
          "text": [
            "\n",
            "MetaGraphDef with tag-set: 'serve' contains the following SignatureDefs:\n",
            "\n",
            "signature_def['__saved_model_init_op']:\n",
            "  The given SavedModel SignatureDef contains the following input(s):\n",
            "  The given SavedModel SignatureDef contains the following output(s):\n",
            "    outputs['__saved_model_init_op'] tensor_info:\n",
            "        dtype: DT_INVALID\n",
            "        shape: unknown_rank\n",
            "        name: NoOp\n",
            "  Method name is: \n",
            "\n",
            "signature_def['serving_default']:\n",
            "  The given SavedModel SignatureDef contains the following input(s):\n",
            "    inputs['gaji'] tensor_info:\n",
            "        dtype: DT_DOUBLE\n",
            "        shape: (-1, 1)\n",
            "        name: serving_default_gaji:0\n",
            "    inputs['pekerjaan'] tensor_info:\n",
            "        dtype: DT_INT64\n",
            "        shape: (-1, 1)\n",
            "        name: serving_default_pekerjaan:0\n",
            "    inputs['tanggungan'] tensor_info:\n",
            "        dtype: DT_INT64\n",
            "        shape: (-1, 1)\n",
            "        name: serving_default_tanggungan:0\n",
            "    inputs['umur'] tensor_info:\n",
            "        dtype: DT_INT64\n",
            "        shape: (-1, 1)\n",
            "        name: serving_default_umur:0\n",
            "  The given SavedModel SignatureDef contains the following output(s):\n",
            "    outputs['output_1'] tensor_info:\n",
            "        dtype: DT_FLOAT\n",
            "        shape: (-1, 1)\n",
            "        name: StatefulPartitionedCall_1:0\n",
            "  Method name is: tensorflow/serving/predict\n",
            "WARNING: Logging before flag parsing goes to stderr.\n",
            "W0525 15:42:18.920202 139944920950656 deprecation.py:506] From /usr/local/lib/python2.7/dist-packages/tensorflow_core/python/ops/resource_variable_ops.py:1786: calling __init__ (from tensorflow.python.ops.resource_variable_ops) with constraint is deprecated and will be removed in a future version.\n",
            "Instructions for updating:\n",
            "If using Keras pass *_constraint arguments to layers.\n",
            "2021-05-25 15:42:19.011500: I tensorflow/stream_executor/platform/default/dso_loader.cc:44] Successfully opened dynamic library libcuda.so.1\n",
            "2021-05-25 15:42:19.038856: E tensorflow/stream_executor/cuda/cuda_driver.cc:351] failed call to cuInit: CUDA_ERROR_NO_DEVICE: no CUDA-capable device is detected\n",
            "2021-05-25 15:42:19.038909: I tensorflow/stream_executor/cuda/cuda_diagnostics.cc:156] kernel driver does not appear to be running on this host (50620f535f0a): /proc/driver/nvidia/version does not exist\n",
            "2021-05-25 15:42:19.053554: I tensorflow/core/platform/profile_utils/cpu_utils.cc:94] CPU Frequency: 2199995000 Hz\n",
            "2021-05-25 15:42:19.053804: I tensorflow/compiler/xla/service/service.cc:168] XLA service 0x55cf48044f40 initialized for platform Host (this does not guarantee that XLA will be used). Devices:\n",
            "2021-05-25 15:42:19.053840: I tensorflow/compiler/xla/service/service.cc:176]   StreamExecutor device (0): Host, Default Version\n",
            "\n",
            "Defined Functions:\n",
            "  Function Name: '__call__'\n",
            "    Option #1\n",
            "      Callable with:\n",
            "        Argument #1\n",
            "          DType: dict\n",
            "          Value: {'tanggungan': TensorSpec(shape=(None, 1), dtype=tf.int64, name=u'inputs/tanggungan'), 'umur': TensorSpec(shape=(None, 1), dtype=tf.int64, name=u'inputs/umur'), 'pekerjaan': TensorSpec(shape=(None, 1), dtype=tf.int64, name=u'inputs/pekerjaan'), 'gaji': TensorSpec(shape=(None, 1), dtype=tf.float64, name=u'inputs/gaji'), \b\b}\n",
            "        Argument #2\n",
            "          DType: bool\n",
            "          Value: False\n",
            "        Argument #3\n",
            "          DType: NoneType\n",
            "          Value: None\n",
            "    Option #2\n",
            "      Callable with:\n",
            "        Argument #1\n",
            "          DType: dict\n",
            "          Value: {'pekerjaan': TensorSpec(shape=(None, 1), dtype=tf.int64, name=u'pekerjaan'), 'umur': TensorSpec(shape=(None, 1), dtype=tf.int64, name=u'umur'), 'tanggungan': TensorSpec(shape=(None, 1), dtype=tf.int64, name=u'tanggungan'), 'gaji': TensorSpec(shape=(None, 1), dtype=tf.float64, name=u'gaji'), \b\b}\n",
            "        Argument #2\n",
            "          DType: bool\n",
            "          Value: False\n",
            "        Argument #3\n",
            "          DType: NoneType\n",
            "          Value: None\n",
            "    Option #3\n",
            "      Callable with:\n",
            "        Argument #1\n",
            "          DType: dict\n",
            "          Value: {'tanggungan': TensorSpec(shape=(None, 1), dtype=tf.int64, name=u'tanggungan'), 'gaji': TensorSpec(shape=(None, 1), dtype=tf.float64, name=u'gaji'), 'pekerjaan': TensorSpec(shape=(None, 1), dtype=tf.int64, name=u'pekerjaan'), 'umur': TensorSpec(shape=(None, 1), dtype=tf.int64, name=u'umur'), \b\b}\n",
            "        Argument #2\n",
            "          DType: bool\n",
            "          Value: True\n",
            "        Argument #3\n",
            "          DType: NoneType\n",
            "          Value: None\n",
            "    Option #4\n",
            "      Callable with:\n",
            "        Argument #1\n",
            "          DType: dict\n",
            "          Value: {'tanggungan': TensorSpec(shape=(None, 1), dtype=tf.int64, name=u'inputs/tanggungan'), 'umur': TensorSpec(shape=(None, 1), dtype=tf.int64, name=u'inputs/umur'), 'pekerjaan': TensorSpec(shape=(None, 1), dtype=tf.int64, name=u'inputs/pekerjaan'), 'gaji': TensorSpec(shape=(None, 1), dtype=tf.float64, name=u'inputs/gaji'), \b\b}\n",
            "        Argument #2\n",
            "          DType: bool\n",
            "          Value: True\n",
            "        Argument #3\n",
            "          DType: NoneType\n",
            "          Value: None\n",
            "\n",
            "  Function Name: '_default_save_signature'\n",
            "    Option #1\n",
            "      Callable with:\n",
            "        Argument #1\n",
            "          DType: dict\n",
            "          Value: {'tanggungan': TensorSpec(shape=(None, 1), dtype=tf.int64, name=u'tanggungan'), 'gaji': TensorSpec(shape=(None, 1), dtype=tf.float64, name=u'gaji'), 'pekerjaan': TensorSpec(shape=(None, 1), dtype=tf.int64, name=u'pekerjaan'), 'umur': TensorSpec(shape=(None, 1), dtype=tf.int64, name=u'umur'), \b\b}\n",
            "\n",
            "  Function Name: 'call_and_return_all_conditional_losses'\n",
            "    Option #1\n",
            "      Callable with:\n",
            "        Argument #1\n",
            "          DType: dict\n",
            "          Value: {'pekerjaan': TensorSpec(shape=(None, 1), dtype=tf.int64, name=u'inputs/pekerjaan'), 'umur': TensorSpec(shape=(None, 1), dtype=tf.int64, name=u'inputs/umur'), 'tanggungan': TensorSpec(shape=(None, 1), dtype=tf.int64, name=u'inputs/tanggungan'), 'gaji': TensorSpec(shape=(None, 1), dtype=tf.float64, name=u'inputs/gaji'), \b\b}\n",
            "        Argument #2\n",
            "          DType: bool\n",
            "          Value: True\n",
            "        Argument #3\n",
            "          DType: NoneType\n",
            "          Value: None\n",
            "    Option #2\n",
            "      Callable with:\n",
            "        Argument #1\n",
            "          DType: dict\n",
            "          Value: {'pekerjaan': TensorSpec(shape=(None, 1), dtype=tf.int64, name=u'inputs/pekerjaan'), 'umur': TensorSpec(shape=(None, 1), dtype=tf.int64, name=u'inputs/umur'), 'tanggungan': TensorSpec(shape=(None, 1), dtype=tf.int64, name=u'inputs/tanggungan'), 'gaji': TensorSpec(shape=(None, 1), dtype=tf.float64, name=u'inputs/gaji'), \b\b}\n",
            "        Argument #2\n",
            "          DType: bool\n",
            "          Value: False\n",
            "        Argument #3\n",
            "          DType: NoneType\n",
            "          Value: None\n",
            "    Option #3\n",
            "      Callable with:\n",
            "        Argument #1\n",
            "          DType: dict\n",
            "          Value: {'pekerjaan': TensorSpec(shape=(None, 1), dtype=tf.int64, name=u'pekerjaan'), 'umur': TensorSpec(shape=(None, 1), dtype=tf.int64, name=u'umur'), 'tanggungan': TensorSpec(shape=(None, 1), dtype=tf.int64, name=u'tanggungan'), 'gaji': TensorSpec(shape=(None, 1), dtype=tf.float64, name=u'gaji'), \b\b}\n",
            "        Argument #2\n",
            "          DType: bool\n",
            "          Value: True\n",
            "        Argument #3\n",
            "          DType: NoneType\n",
            "          Value: None\n",
            "    Option #4\n",
            "      Callable with:\n",
            "        Argument #1\n",
            "          DType: dict\n",
            "          Value: {'tanggungan': TensorSpec(shape=(None, 1), dtype=tf.int64, name=u'tanggungan'), 'umur': TensorSpec(shape=(None, 1), dtype=tf.int64, name=u'umur'), 'pekerjaan': TensorSpec(shape=(None, 1), dtype=tf.int64, name=u'pekerjaan'), 'gaji': TensorSpec(shape=(None, 1), dtype=tf.float64, name=u'gaji'), \b\b}\n",
            "        Argument #2\n",
            "          DType: bool\n",
            "          Value: False\n",
            "        Argument #3\n",
            "          DType: NoneType\n",
            "          Value: None\n",
            "W0525 15:42:19.250299 139944920950656 util.py:144] Unresolved object in checkpoint: (root).layer-0._resources.pekerjaan.pekerjaan_lookup._initializer\n",
            "W0525 15:42:19.250544 139944920950656 util.py:152] A checkpoint was restored (e.g. tf.train.Checkpoint.restore or tf.keras.Model.load_weights) but not all checkpointed values were used. See above for specific issues. Use expect_partial() on the load status object, e.g. tf.train.Checkpoint.restore(...).expect_partial(), to silence these warnings, or use assert_consumed() to make the check explicit. See https://www.tensorflow.org/guide/checkpoint#loading_mechanics for details.\n"
          ],
          "name": "stdout"
        }
      ]
    },
    {
      "cell_type": "code",
      "metadata": {
        "id": "cOyXWT7jAZTn"
      },
      "source": [
        "os.environ[\"MODEL_DIR\"] = MODEL_DIR"
      ],
      "execution_count": 21,
      "outputs": []
    },
    {
      "cell_type": "markdown",
      "metadata": {
        "id": "ARmsAmfQBgLB"
      },
      "source": [
        "## Serve model"
      ]
    },
    {
      "cell_type": "code",
      "metadata": {
        "colab": {
          "base_uri": "https://localhost:8080/"
        },
        "id": "czCjZdCSAbsG",
        "outputId": "38a70caa-3490-4f52-bf82-6063d09d3a54"
      },
      "source": [
        "%%bash --bg \n",
        "nohup tensorflow_model_server \\\n",
        "  --rest_api_port=8501 \\\n",
        "  --model_name=bsd \\\n",
        "  --model_base_path=\"${MODEL_DIR}\" >server.log 2>&1"
      ],
      "execution_count": 22,
      "outputs": [
        {
          "output_type": "stream",
          "text": [
            "Starting job # 0 in a separate thread.\n"
          ],
          "name": "stdout"
        }
      ]
    },
    {
      "cell_type": "code",
      "metadata": {
        "colab": {
          "base_uri": "https://localhost:8080/"
        },
        "id": "tCnL57LQAc6W",
        "outputId": "edca1f91-5dd2-4995-b019-dc23ac0446db"
      },
      "source": [
        "!tail server.log"
      ],
      "execution_count": 23,
      "outputs": [
        {
          "output_type": "stream",
          "text": [
            "2021-05-25 15:42:27.903570: I external/org_tensorflow/tensorflow/cc/saved_model/loader.cc:190] Running initialization op on SavedModel bundle at path: /tmp/1\n",
            "2021-05-25 15:42:27.914912: I external/org_tensorflow/tensorflow/cc/saved_model/loader.cc:277] SavedModel load for tags { serve }; Status: success: OK. Took 78801 microseconds.\n",
            "2021-05-25 15:42:27.916585: I tensorflow_serving/servables/tensorflow/saved_model_warmup_util.cc:59] No warmup data file found at /tmp/1/assets.extra/tf_serving_warmup_requests\n",
            "2021-05-25 15:42:27.916793: I tensorflow_serving/core/loader_harness.cc:87] Successfully loaded servable version {name: bsd version: 1}\n",
            "2021-05-25 15:42:27.917605: I tensorflow_serving/model_servers/server_core.cc:486] Finished adding/updating models\n",
            "2021-05-25 15:42:27.917676: I tensorflow_serving/model_servers/server.cc:367] Profiler service is enabled\n",
            "2021-05-25 15:42:27.918231: I tensorflow_serving/model_servers/server.cc:393] Running gRPC ModelServer at 0.0.0.0:8500 ...\n",
            "[warn] getaddrinfo: address family for nodename not supported\n",
            "[evhttp_server.cc : 245] NET_LOG: Entering the event loop ...\n",
            "2021-05-25 15:42:27.918802: I tensorflow_serving/model_servers/server.cc:414] Exporting HTTP/REST API at:localhost:8501 ...\n"
          ],
          "name": "stdout"
        }
      ]
    },
    {
      "cell_type": "markdown",
      "metadata": {
        "id": "A2iYpffmBqtH"
      },
      "source": [
        "## Sample request"
      ]
    },
    {
      "cell_type": "code",
      "metadata": {
        "colab": {
          "base_uri": "https://localhost:8080/"
        },
        "id": "W-jZCF5RByD8",
        "outputId": "4b502a1a-c9d4-469a-bcb8-d567009c0fcc"
      },
      "source": [
        "import json\n",
        "import requests\n",
        "\n",
        "xs = [{\"gaji\": [test.iloc[0][1]], \"pekerjaan\": [int(test.iloc[0][3])], \"tanggungan\": [int(test.iloc[0][2])], \"umur\": [int(test.iloc[0][0])]}]\n",
        "print(\"Data:\", xs)\n",
        "\n",
        "data = json.dumps({\"signature_name\": \"serving_default\", \"instances\": xs})\n",
        "\n",
        "headers = {\"content-type\": \"application/json\"}\n",
        "json_response = requests.post('http://localhost:8501/v1/models/bsd:predict', data=data, headers=headers)\n",
        "\n",
        "predictions = json.loads(json_response.text)['predictions']\n",
        "print(predictions)"
      ],
      "execution_count": 43,
      "outputs": [
        {
          "output_type": "stream",
          "text": [
            "Data: [{'gaji': [5.5], 'pekerjaan': [6], 'tanggungan': [2], 'umur': [21]}]\n",
            "[[0.00325417519]]\n"
          ],
          "name": "stdout"
        }
      ]
    }
  ]
}